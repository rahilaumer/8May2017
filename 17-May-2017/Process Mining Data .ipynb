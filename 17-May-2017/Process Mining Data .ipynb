{
 "cells": [
  {
   "cell_type": "code",
   "execution_count": 65,
   "metadata": {
    "collapsed": true
   },
   "outputs": [],
   "source": [
    "import pandas as pd\n",
    "from pandas.tools.plotting import scatter_matrix\n",
    "from sklearn import metrics\n",
    "import matplotlib.pyplot as plt\n",
    "from sklearn import cross_validation\n",
    "from sklearn.metrics import classification_report\n",
    "from sklearn.metrics import confusion_matrix\n",
    "from sklearn.metrics import accuracy_score\n",
    "from sklearn.linear_model import LogisticRegression\n",
    "from sklearn.tree import DecisionTreeClassifier\n",
    "from sklearn.neighbors import KNeighborsClassifier\n",
    "#from sklearn.discriminant_analysis import LinearDiscriminantAnalysis\n",
    "from sklearn.naive_bayes import GaussianNB\n",
    "from sklearn.svm import SVC\n",
    "from sklearn.preprocessing import Normalizer\n",
    "from sklearn.preprocessing import StandardScaler\n",
    "from sklearn.preprocessing import MinMaxScaler\n",
    "from sklearn.datasets import make_classification\n",
    "from sklearn.cross_validation import cross_val_predict\n",
    "import matplotlib.pyplot as plt\n",
    "import pandas as pd\n",
    "import numpy as np\n",
    "import seaborn as sns\n",
    "from pylab import rcParams\n",
    "import os\n",
    "# plot feature importance using built-in function\n",
    "from numpy import loadtxt\n",
    "from matplotlib import pyplot\n",
    "%matplotlib inline\n",
    "from sklearn.multiclass import OneVsRestClassifier\n",
    "from scipy import interp\n",
    "from sklearn import svm, datasets\n",
    "from sklearn.metrics import roc_curve, auc"
   ]
  },
  {
   "cell_type": "code",
   "execution_count": 66,
   "metadata": {
    "collapsed": true
   },
   "outputs": [],
   "source": [
    "os.chdir(\"C://Users//rumer//Desktop//8May2017//Process Minig\")"
   ]
  },
  {
   "cell_type": "code",
   "execution_count": 67,
   "metadata": {
    "collapsed": false
   },
   "outputs": [
    {
     "data": {
      "text/html": [
       "<div>\n",
       "<table border=\"1\" class=\"dataframe\">\n",
       "  <thead>\n",
       "    <tr style=\"text-align: right;\">\n",
       "      <th></th>\n",
       "      <th>anon_screen_name</th>\n",
       "      <th>resource_display_name</th>\n",
       "      <th>module_id</th>\n",
       "      <th>activity_grade_id</th>\n",
       "      <th>first_submit</th>\n",
       "      <th>last_submit</th>\n",
       "      <th>module_type</th>\n",
       "    </tr>\n",
       "  </thead>\n",
       "  <tbody>\n",
       "    <tr>\n",
       "      <th>0</th>\n",
       "      <td>5642f41e7367a2fa7788969c3183558a321e0d3a</td>\n",
       "      <td>NaN</td>\n",
       "      <td>i4x://HumanitiesSciences/Econ-1/course/Summer2014</td>\n",
       "      <td>41279623</td>\n",
       "      <td>14/02/2015 12:07</td>\n",
       "      <td>28/02/2015 2:44</td>\n",
       "      <td>course</td>\n",
       "    </tr>\n",
       "    <tr>\n",
       "      <th>1</th>\n",
       "      <td>d3514f3453fba7abafec92d56d854394ff77cfe2</td>\n",
       "      <td>Lecture: The Role of Prices and Elasticity</td>\n",
       "      <td>i4x://HumanitiesSciences/Econ-1/video/42ab56e0...</td>\n",
       "      <td>42512405</td>\n",
       "      <td>27/02/2015 17:36</td>\n",
       "      <td>28/02/2015 2:56</td>\n",
       "      <td>video</td>\n",
       "    </tr>\n",
       "    <tr>\n",
       "      <th>2</th>\n",
       "      <td>d3514f3453fba7abafec92d56d854394ff77cfe2</td>\n",
       "      <td>Using the Supply and Demand Model</td>\n",
       "      <td>i4x://HumanitiesSciences/Econ-1/sequential/310...</td>\n",
       "      <td>42511074</td>\n",
       "      <td>27/02/2015 17:17</td>\n",
       "      <td>28/02/2015 2:56</td>\n",
       "      <td>sequential</td>\n",
       "    </tr>\n",
       "    <tr>\n",
       "      <th>3</th>\n",
       "      <td>5642f41e7367a2fa7788969c3183558a321e0d3a</td>\n",
       "      <td>Cost Curves 8A</td>\n",
       "      <td>i4x://HumanitiesSciences/Econ-1/video/f93f94a9...</td>\n",
       "      <td>42544822</td>\n",
       "      <td>28/02/2015 2:46</td>\n",
       "      <td>28/02/2015 3:00</td>\n",
       "      <td>video</td>\n",
       "    </tr>\n",
       "    <tr>\n",
       "      <th>4</th>\n",
       "      <td>bfda82bb9940b12e8a7482bb00392395d211d4a6</td>\n",
       "      <td>Econ 1: Road Map</td>\n",
       "      <td>i4x://HumanitiesSciences/Econ-1/chapter/cadd59...</td>\n",
       "      <td>42485689</td>\n",
       "      <td>27/02/2015 10:05</td>\n",
       "      <td>28/02/2015 3:14</td>\n",
       "      <td>chapter</td>\n",
       "    </tr>\n",
       "  </tbody>\n",
       "</table>\n",
       "</div>"
      ],
      "text/plain": [
       "                           anon_screen_name  \\\n",
       "0  5642f41e7367a2fa7788969c3183558a321e0d3a   \n",
       "1  d3514f3453fba7abafec92d56d854394ff77cfe2   \n",
       "2  d3514f3453fba7abafec92d56d854394ff77cfe2   \n",
       "3  5642f41e7367a2fa7788969c3183558a321e0d3a   \n",
       "4  bfda82bb9940b12e8a7482bb00392395d211d4a6   \n",
       "\n",
       "                        resource_display_name  \\\n",
       "0                                         NaN   \n",
       "1  Lecture: The Role of Prices and Elasticity   \n",
       "2           Using the Supply and Demand Model   \n",
       "3                              Cost Curves 8A   \n",
       "4                            Econ 1: Road Map   \n",
       "\n",
       "                                           module_id  activity_grade_id  \\\n",
       "0  i4x://HumanitiesSciences/Econ-1/course/Summer2014           41279623   \n",
       "1  i4x://HumanitiesSciences/Econ-1/video/42ab56e0...           42512405   \n",
       "2  i4x://HumanitiesSciences/Econ-1/sequential/310...           42511074   \n",
       "3  i4x://HumanitiesSciences/Econ-1/video/f93f94a9...           42544822   \n",
       "4  i4x://HumanitiesSciences/Econ-1/chapter/cadd59...           42485689   \n",
       "\n",
       "       first_submit      last_submit module_type  \n",
       "0  14/02/2015 12:07  28/02/2015 2:44      course  \n",
       "1  27/02/2015 17:36  28/02/2015 2:56       video  \n",
       "2  27/02/2015 17:17  28/02/2015 2:56  sequential  \n",
       "3   28/02/2015 2:46  28/02/2015 3:00       video  \n",
       "4  27/02/2015 10:05  28/02/2015 3:14     chapter  "
      ]
     },
     "execution_count": 67,
     "metadata": {},
     "output_type": "execute_result"
    }
   ],
   "source": [
    "a=pd.read_csv(\"Activity.csv\")\n",
    "a=a[['anon_screen_name', 'resource_display_name', 'module_id','activity_grade_id','first_submit', 'last_submit', 'module_type']]\n",
    "a.head()"
   ]
  },
  {
   "cell_type": "code",
   "execution_count": 68,
   "metadata": {
    "collapsed": false
   },
   "outputs": [
    {
     "data": {
      "text/html": [
       "<div>\n",
       "<table border=\"1\" class=\"dataframe\">\n",
       "  <thead>\n",
       "    <tr style=\"text-align: right;\">\n",
       "      <th></th>\n",
       "      <th>anon_screen_name</th>\n",
       "      <th>Finalgrade</th>\n",
       "      <th>FinalScore</th>\n",
       "    </tr>\n",
       "  </thead>\n",
       "  <tbody>\n",
       "    <tr>\n",
       "      <th>0</th>\n",
       "      <td>2c8c1acc64557cb3d317cc4ba3766e766e3c6e72</td>\n",
       "      <td>0</td>\n",
       "      <td>Fail</td>\n",
       "    </tr>\n",
       "    <tr>\n",
       "      <th>1</th>\n",
       "      <td>263763b392ddf86cd4f42fe635420bc309cde658</td>\n",
       "      <td>0</td>\n",
       "      <td>Fail</td>\n",
       "    </tr>\n",
       "    <tr>\n",
       "      <th>2</th>\n",
       "      <td>060090cfc2e585d87048c45b9f0d8169dd553ee7</td>\n",
       "      <td>0</td>\n",
       "      <td>Fail</td>\n",
       "    </tr>\n",
       "    <tr>\n",
       "      <th>3</th>\n",
       "      <td>422394c7a3679ac123e1b95d451ad9628eaa0efc</td>\n",
       "      <td>0</td>\n",
       "      <td>Fail</td>\n",
       "    </tr>\n",
       "    <tr>\n",
       "      <th>4</th>\n",
       "      <td>a99302b2cf6705fd4b459c5457e8026f0997fe3c</td>\n",
       "      <td>0</td>\n",
       "      <td>Fail</td>\n",
       "    </tr>\n",
       "  </tbody>\n",
       "</table>\n",
       "</div>"
      ],
      "text/plain": [
       "                           anon_screen_name  Finalgrade FinalScore\n",
       "0  2c8c1acc64557cb3d317cc4ba3766e766e3c6e72           0       Fail\n",
       "1  263763b392ddf86cd4f42fe635420bc309cde658           0       Fail\n",
       "2  060090cfc2e585d87048c45b9f0d8169dd553ee7           0       Fail\n",
       "3  422394c7a3679ac123e1b95d451ad9628eaa0efc           0       Fail\n",
       "4  a99302b2cf6705fd4b459c5457e8026f0997fe3c           0       Fail"
      ]
     },
     "execution_count": 68,
     "metadata": {},
     "output_type": "execute_result"
    }
   ],
   "source": [
    "f=pd.read_csv(\"FinalScore.csv\")\n",
    "f.head()"
   ]
  },
  {
   "cell_type": "code",
   "execution_count": 69,
   "metadata": {
    "collapsed": false
   },
   "outputs": [
    {
     "data": {
      "text/html": [
       "<div>\n",
       "<table border=\"1\" class=\"dataframe\">\n",
       "  <thead>\n",
       "    <tr style=\"text-align: right;\">\n",
       "      <th></th>\n",
       "      <th>Module</th>\n",
       "      <th>resource_display_name</th>\n",
       "      <th>Week</th>\n",
       "      <th>Act</th>\n",
       "    </tr>\n",
       "  </thead>\n",
       "  <tbody>\n",
       "    <tr>\n",
       "      <th>0</th>\n",
       "      <td>The Basic Core of Economics</td>\n",
       "      <td>Lecture: Welcome to the Principles of Economics</td>\n",
       "      <td>Week-1</td>\n",
       "      <td>L1</td>\n",
       "    </tr>\n",
       "    <tr>\n",
       "      <th>1</th>\n",
       "      <td>The Basic Core of Economics</td>\n",
       "      <td>Lecture: The Central Idea (1B)</td>\n",
       "      <td>Week-1</td>\n",
       "      <td>L2</td>\n",
       "    </tr>\n",
       "    <tr>\n",
       "      <th>2</th>\n",
       "      <td>The Basic Core of Economics</td>\n",
       "      <td>Lecture: Production Possibilities and Economic...</td>\n",
       "      <td>Week-1</td>\n",
       "      <td>L3</td>\n",
       "    </tr>\n",
       "    <tr>\n",
       "      <th>3</th>\n",
       "      <td>The Basic Core of Economics</td>\n",
       "      <td>Lecture: Observing and Explaining the Economy</td>\n",
       "      <td>Week-1</td>\n",
       "      <td>L4</td>\n",
       "    </tr>\n",
       "    <tr>\n",
       "      <th>4</th>\n",
       "      <td>The Basic Core of Economics</td>\n",
       "      <td>Lecture: Supply and Demand (3A)</td>\n",
       "      <td>Week-1</td>\n",
       "      <td>L5</td>\n",
       "    </tr>\n",
       "  </tbody>\n",
       "</table>\n",
       "</div>"
      ],
      "text/plain": [
       "                        Module  \\\n",
       "0  The Basic Core of Economics   \n",
       "1  The Basic Core of Economics   \n",
       "2  The Basic Core of Economics   \n",
       "3  The Basic Core of Economics   \n",
       "4  The Basic Core of Economics   \n",
       "\n",
       "                               resource_display_name   Week  Act  \n",
       "0    Lecture: Welcome to the Principles of Economics  Week-1  L1  \n",
       "1                     Lecture: The Central Idea (1B)  Week-1  L2  \n",
       "2  Lecture: Production Possibilities and Economic...  Week-1  L3  \n",
       "3      Lecture: Observing and Explaining the Economy  Week-1  L4  \n",
       "4                    Lecture: Supply and Demand (3A)  Week-1  L5  "
      ]
     },
     "execution_count": 69,
     "metadata": {},
     "output_type": "execute_result"
    }
   ],
   "source": [
    "l=pd.read_csv(\"LecQuiz.csv\")\n",
    "l.head()\n"
   ]
  },
  {
   "cell_type": "code",
   "execution_count": 70,
   "metadata": {
    "collapsed": false
   },
   "outputs": [
    {
     "data": {
      "text/html": [
       "<div>\n",
       "<table border=\"1\" class=\"dataframe\">\n",
       "  <thead>\n",
       "    <tr style=\"text-align: right;\">\n",
       "      <th></th>\n",
       "      <th>anon_screen_name</th>\n",
       "      <th>resource_display_name</th>\n",
       "      <th>module_id</th>\n",
       "      <th>activity_grade_id</th>\n",
       "      <th>first_submit</th>\n",
       "      <th>last_submit</th>\n",
       "      <th>module_type</th>\n",
       "      <th>Module</th>\n",
       "      <th>Week</th>\n",
       "      <th>Act</th>\n",
       "    </tr>\n",
       "  </thead>\n",
       "  <tbody>\n",
       "    <tr>\n",
       "      <th>0</th>\n",
       "      <td>bfda82bb9940b12e8a7482bb00392395d211d4a6</td>\n",
       "      <td>Quiz: Price and Elasticity</td>\n",
       "      <td>i4x://HumanitiesSciences/Econ-1/problem/c276c9...</td>\n",
       "      <td>42485622</td>\n",
       "      <td>27/02/2015 10:05</td>\n",
       "      <td>28/02/2015 3:28</td>\n",
       "      <td>problem</td>\n",
       "      <td>The Basic Core of Economics</td>\n",
       "      <td>Week-1</td>\n",
       "      <td>P-7</td>\n",
       "    </tr>\n",
       "    <tr>\n",
       "      <th>1</th>\n",
       "      <td>938d097ce5fe36c90b3ee5139375890063d973ba</td>\n",
       "      <td>Quiz: Price and Elasticity</td>\n",
       "      <td>i4x://HumanitiesSciences/Econ-1/problem/c276c9...</td>\n",
       "      <td>42554441</td>\n",
       "      <td>28/02/2015 8:02</td>\n",
       "      <td>28/02/2015 8:02</td>\n",
       "      <td>problem</td>\n",
       "      <td>The Basic Core of Economics</td>\n",
       "      <td>Week-1</td>\n",
       "      <td>P-7</td>\n",
       "    </tr>\n",
       "    <tr>\n",
       "      <th>2</th>\n",
       "      <td>edf007581a090fe134c76386fa14f5a61d4f78c0</td>\n",
       "      <td>Quiz: Price and Elasticity</td>\n",
       "      <td>i4x://HumanitiesSciences/Econ-1/problem/c276c9...</td>\n",
       "      <td>42564929</td>\n",
       "      <td>28/02/2015 12:07</td>\n",
       "      <td>28/02/2015 12:07</td>\n",
       "      <td>problem</td>\n",
       "      <td>The Basic Core of Economics</td>\n",
       "      <td>Week-1</td>\n",
       "      <td>P-7</td>\n",
       "    </tr>\n",
       "    <tr>\n",
       "      <th>3</th>\n",
       "      <td>50544024148d8b6ee7429fff08c09e73dc98515b</td>\n",
       "      <td>Quiz: Price and Elasticity</td>\n",
       "      <td>i4x://HumanitiesSciences/Econ-1/problem/c276c9...</td>\n",
       "      <td>42580935</td>\n",
       "      <td>28/02/2015 16:36</td>\n",
       "      <td>28/02/2015 16:57</td>\n",
       "      <td>problem</td>\n",
       "      <td>The Basic Core of Economics</td>\n",
       "      <td>Week-1</td>\n",
       "      <td>P-7</td>\n",
       "    </tr>\n",
       "    <tr>\n",
       "      <th>4</th>\n",
       "      <td>None</td>\n",
       "      <td>Quiz: Price and Elasticity</td>\n",
       "      <td>i4x://HumanitiesSciences/Econ-1/problem/c276c9...</td>\n",
       "      <td>42590134</td>\n",
       "      <td>28/02/2015 18:23</td>\n",
       "      <td>28/02/2015 18:23</td>\n",
       "      <td>problem</td>\n",
       "      <td>The Basic Core of Economics</td>\n",
       "      <td>Week-1</td>\n",
       "      <td>P-7</td>\n",
       "    </tr>\n",
       "  </tbody>\n",
       "</table>\n",
       "</div>"
      ],
      "text/plain": [
       "                           anon_screen_name       resource_display_name  \\\n",
       "0  bfda82bb9940b12e8a7482bb00392395d211d4a6  Quiz: Price and Elasticity   \n",
       "1  938d097ce5fe36c90b3ee5139375890063d973ba  Quiz: Price and Elasticity   \n",
       "2  edf007581a090fe134c76386fa14f5a61d4f78c0  Quiz: Price and Elasticity   \n",
       "3  50544024148d8b6ee7429fff08c09e73dc98515b  Quiz: Price and Elasticity   \n",
       "4                                      None  Quiz: Price and Elasticity   \n",
       "\n",
       "                                           module_id  activity_grade_id  \\\n",
       "0  i4x://HumanitiesSciences/Econ-1/problem/c276c9...           42485622   \n",
       "1  i4x://HumanitiesSciences/Econ-1/problem/c276c9...           42554441   \n",
       "2  i4x://HumanitiesSciences/Econ-1/problem/c276c9...           42564929   \n",
       "3  i4x://HumanitiesSciences/Econ-1/problem/c276c9...           42580935   \n",
       "4  i4x://HumanitiesSciences/Econ-1/problem/c276c9...           42590134   \n",
       "\n",
       "       first_submit       last_submit module_type  \\\n",
       "0  27/02/2015 10:05   28/02/2015 3:28     problem   \n",
       "1   28/02/2015 8:02   28/02/2015 8:02     problem   \n",
       "2  28/02/2015 12:07  28/02/2015 12:07     problem   \n",
       "3  28/02/2015 16:36  28/02/2015 16:57     problem   \n",
       "4  28/02/2015 18:23  28/02/2015 18:23     problem   \n",
       "\n",
       "                        Module   Week    Act  \n",
       "0  The Basic Core of Economics  Week-1  P-7   \n",
       "1  The Basic Core of Economics  Week-1  P-7   \n",
       "2  The Basic Core of Economics  Week-1  P-7   \n",
       "3  The Basic Core of Economics  Week-1  P-7   \n",
       "4  The Basic Core of Economics  Week-1  P-7   "
      ]
     },
     "execution_count": 70,
     "metadata": {},
     "output_type": "execute_result"
    }
   ],
   "source": [
    "df=pd.merge(a,l,on='resource_display_name')\n",
    "df.head()"
   ]
  },
  {
   "cell_type": "code",
   "execution_count": 71,
   "metadata": {
    "collapsed": false
   },
   "outputs": [
    {
     "data": {
      "text/html": [
       "<div>\n",
       "<table border=\"1\" class=\"dataframe\">\n",
       "  <thead>\n",
       "    <tr style=\"text-align: right;\">\n",
       "      <th></th>\n",
       "      <th>anon_screen_name</th>\n",
       "      <th>resource_display_name</th>\n",
       "      <th>module_id</th>\n",
       "      <th>activity_grade_id</th>\n",
       "      <th>first_submit</th>\n",
       "      <th>last_submit</th>\n",
       "      <th>module_type</th>\n",
       "      <th>Module</th>\n",
       "      <th>Week</th>\n",
       "      <th>Act</th>\n",
       "      <th>Finalgrade</th>\n",
       "      <th>FinalScore</th>\n",
       "    </tr>\n",
       "  </thead>\n",
       "  <tbody>\n",
       "    <tr>\n",
       "      <th>0</th>\n",
       "      <td>77d69af413fd3c1ffc8009a0a92a56c406e69370</td>\n",
       "      <td>Quiz: Price and Elasticity</td>\n",
       "      <td>i4x://HumanitiesSciences/Econ-1/problem/c276c9...</td>\n",
       "      <td>43005924</td>\n",
       "      <td>4/03/2015 20:05</td>\n",
       "      <td>4/03/2015 20:05</td>\n",
       "      <td>problem</td>\n",
       "      <td>The Basic Core of Economics</td>\n",
       "      <td>Week-1</td>\n",
       "      <td>P-7</td>\n",
       "      <td>0</td>\n",
       "      <td>Fail</td>\n",
       "    </tr>\n",
       "    <tr>\n",
       "      <th>1</th>\n",
       "      <td>77d69af413fd3c1ffc8009a0a92a56c406e69370</td>\n",
       "      <td>Quiz: Monopolistic Competition</td>\n",
       "      <td>i4x://HumanitiesSciences/Econ-1/problem/595a20...</td>\n",
       "      <td>43005937</td>\n",
       "      <td>4/03/2015 20:05</td>\n",
       "      <td>4/03/2015 20:05</td>\n",
       "      <td>problem</td>\n",
       "      <td>Deviations from Competition</td>\n",
       "      <td>Week-3</td>\n",
       "      <td>P-20</td>\n",
       "      <td>0</td>\n",
       "      <td>Fail</td>\n",
       "    </tr>\n",
       "    <tr>\n",
       "      <th>2</th>\n",
       "      <td>77d69af413fd3c1ffc8009a0a92a56c406e69370</td>\n",
       "      <td>Quiz: Supply and Demand</td>\n",
       "      <td>i4x://HumanitiesSciences/Econ-1/problem/ede368...</td>\n",
       "      <td>43005922</td>\n",
       "      <td>4/03/2015 20:05</td>\n",
       "      <td>4/03/2015 20:05</td>\n",
       "      <td>problem</td>\n",
       "      <td>The Basic Core of Economics</td>\n",
       "      <td>Week-1</td>\n",
       "      <td>P-5</td>\n",
       "      <td>0</td>\n",
       "      <td>Fail</td>\n",
       "    </tr>\n",
       "    <tr>\n",
       "      <th>3</th>\n",
       "      <td>77d69af413fd3c1ffc8009a0a92a56c406e69370</td>\n",
       "      <td>Quiz: Are Competitive Markets Efficient?</td>\n",
       "      <td>i4x://HumanitiesSciences/Econ-1/problem/512c30...</td>\n",
       "      <td>43005708</td>\n",
       "      <td>4/03/2015 20:02</td>\n",
       "      <td>4/03/2015 20:02</td>\n",
       "      <td>problem</td>\n",
       "      <td>The Competitive Equilibrium Model</td>\n",
       "      <td>Week-2</td>\n",
       "      <td>P-13</td>\n",
       "      <td>0</td>\n",
       "      <td>Fail</td>\n",
       "    </tr>\n",
       "    <tr>\n",
       "      <th>4</th>\n",
       "      <td>77d69af413fd3c1ffc8009a0a92a56c406e69370</td>\n",
       "      <td>Quiz: Observing and Explaining the Economy</td>\n",
       "      <td>i4x://HumanitiesSciences/Econ-1/problem/8a0a54...</td>\n",
       "      <td>43005919</td>\n",
       "      <td>4/03/2015 20:05</td>\n",
       "      <td>4/03/2015 20:05</td>\n",
       "      <td>problem</td>\n",
       "      <td>The Basic Core of Economics</td>\n",
       "      <td>Week-1</td>\n",
       "      <td>P-4</td>\n",
       "      <td>0</td>\n",
       "      <td>Fail</td>\n",
       "    </tr>\n",
       "  </tbody>\n",
       "</table>\n",
       "</div>"
      ],
      "text/plain": [
       "                           anon_screen_name  \\\n",
       "0  77d69af413fd3c1ffc8009a0a92a56c406e69370   \n",
       "1  77d69af413fd3c1ffc8009a0a92a56c406e69370   \n",
       "2  77d69af413fd3c1ffc8009a0a92a56c406e69370   \n",
       "3  77d69af413fd3c1ffc8009a0a92a56c406e69370   \n",
       "4  77d69af413fd3c1ffc8009a0a92a56c406e69370   \n",
       "\n",
       "                        resource_display_name  \\\n",
       "0                  Quiz: Price and Elasticity   \n",
       "1              Quiz: Monopolistic Competition   \n",
       "2                     Quiz: Supply and Demand   \n",
       "3    Quiz: Are Competitive Markets Efficient?   \n",
       "4  Quiz: Observing and Explaining the Economy   \n",
       "\n",
       "                                           module_id  activity_grade_id  \\\n",
       "0  i4x://HumanitiesSciences/Econ-1/problem/c276c9...           43005924   \n",
       "1  i4x://HumanitiesSciences/Econ-1/problem/595a20...           43005937   \n",
       "2  i4x://HumanitiesSciences/Econ-1/problem/ede368...           43005922   \n",
       "3  i4x://HumanitiesSciences/Econ-1/problem/512c30...           43005708   \n",
       "4  i4x://HumanitiesSciences/Econ-1/problem/8a0a54...           43005919   \n",
       "\n",
       "      first_submit      last_submit module_type  \\\n",
       "0  4/03/2015 20:05  4/03/2015 20:05     problem   \n",
       "1  4/03/2015 20:05  4/03/2015 20:05     problem   \n",
       "2  4/03/2015 20:05  4/03/2015 20:05     problem   \n",
       "3  4/03/2015 20:02  4/03/2015 20:02     problem   \n",
       "4  4/03/2015 20:05  4/03/2015 20:05     problem   \n",
       "\n",
       "                              Module   Week     Act  Finalgrade FinalScore  \n",
       "0        The Basic Core of Economics  Week-1   P-7            0       Fail  \n",
       "1        Deviations from Competition  Week-3   P-20           0       Fail  \n",
       "2        The Basic Core of Economics  Week-1   P-5            0       Fail  \n",
       "3  The Competitive Equilibrium Model  Week-2  P-13            0       Fail  \n",
       "4        The Basic Core of Economics  Week-1    P-4           0       Fail  "
      ]
     },
     "execution_count": 71,
     "metadata": {},
     "output_type": "execute_result"
    }
   ],
   "source": [
    "df=pd.merge(df,f,on='anon_screen_name')\n",
    "df.head()"
   ]
  },
  {
   "cell_type": "code",
   "execution_count": 72,
   "metadata": {
    "collapsed": false
   },
   "outputs": [],
   "source": [
    "df.to_csv('df.csv')"
   ]
  },
  {
   "cell_type": "code",
   "execution_count": 85,
   "metadata": {
    "collapsed": false
   },
   "outputs": [],
   "source": [
    "sample=df[df['anon_screen_name']=='a1b525d2a40b55a614ab3ce8b19cb30a289c9246']"
   ]
  },
  {
   "cell_type": "code",
   "execution_count": 73,
   "metadata": {
    "collapsed": true
   },
   "outputs": [],
   "source": [
    "Week1=df[df['Week ']=='Week-1']"
   ]
  },
  {
   "cell_type": "code",
   "execution_count": 74,
   "metadata": {
    "collapsed": true
   },
   "outputs": [],
   "source": [
    "Week1.to_csv('Week1.csv')"
   ]
  },
  {
   "cell_type": "code",
   "execution_count": 76,
   "metadata": {
    "collapsed": false
   },
   "outputs": [],
   "source": [
    "W1pass=df[df['FinalScore']=='Pass']"
   ]
  },
  {
   "cell_type": "code",
   "execution_count": 77,
   "metadata": {
    "collapsed": true
   },
   "outputs": [],
   "source": [
    "W1pass.to_csv(\"w1Pass.csv\")"
   ]
  },
  {
   "cell_type": "code",
   "execution_count": 86,
   "metadata": {
    "collapsed": false
   },
   "outputs": [],
   "source": [
    "sample.to_csv(\"sample.csv\")"
   ]
  },
  {
   "cell_type": "code",
   "execution_count": 87,
   "metadata": {
    "collapsed": true
   },
   "outputs": [],
   "source": [
    "lead=df[df['Finalgrade']>=0.9]"
   ]
  },
  {
   "cell_type": "code",
   "execution_count": 88,
   "metadata": {
    "collapsed": true
   },
   "outputs": [],
   "source": [
    "lead.to_csv(\"Lead.csv\")"
   ]
  },
  {
   "cell_type": "code",
   "execution_count": null,
   "metadata": {
    "collapsed": true
   },
   "outputs": [],
   "source": []
  }
 ],
 "metadata": {
  "kernelspec": {
   "display_name": "Python 2",
   "language": "python",
   "name": "python2"
  },
  "language_info": {
   "codemirror_mode": {
    "name": "ipython",
    "version": 2
   },
   "file_extension": ".py",
   "mimetype": "text/x-python",
   "name": "python",
   "nbconvert_exporter": "python",
   "pygments_lexer": "ipython2",
   "version": "2.7.10"
  }
 },
 "nbformat": 4,
 "nbformat_minor": 0
}
