{
 "cells": [
  {
   "cell_type": "code",
   "execution_count": 1,
   "metadata": {
    "collapsed": true
   },
   "outputs": [],
   "source": [
    "import pandas as pd\n",
    "from pandas.tools.plotting import scatter_matrix\n",
    "from sklearn import metrics\n",
    "import matplotlib.pyplot as plt\n",
    "from sklearn import cross_validation\n",
    "from sklearn.metrics import classification_report\n",
    "from sklearn.metrics import confusion_matrix\n",
    "from sklearn.metrics import accuracy_score\n",
    "from sklearn.linear_model import LogisticRegression\n",
    "from sklearn.tree import DecisionTreeClassifier\n",
    "from sklearn.neighbors import KNeighborsClassifier\n",
    "#from sklearn.discriminant_analysis import LinearDiscriminantAnalysis\n",
    "from sklearn.naive_bayes import GaussianNB\n",
    "from sklearn.svm import SVC\n",
    "from sklearn.preprocessing import Normalizer\n",
    "from sklearn.preprocessing import StandardScaler\n",
    "from sklearn.preprocessing import MinMaxScaler\n",
    "from sklearn.datasets import make_classification\n",
    "from sklearn.cross_validation import cross_val_predict\n",
    "import matplotlib.pyplot as plt\n",
    "import pandas as pd\n",
    "import numpy as np\n",
    "import seaborn as sns\n",
    "from pylab import rcParams\n",
    "import os\n",
    "# plot feature importance using built-in function\n",
    "from numpy import loadtxt\n",
    "from matplotlib import pyplot\n",
    "%matplotlib inline\n",
    "from sklearn.multiclass import OneVsRestClassifier\n",
    "from scipy import interp\n",
    "from sklearn import svm, datasets\n",
    "from sklearn.metrics import roc_curve, auc"
   ]
  },
  {
   "cell_type": "code",
   "execution_count": 2,
   "metadata": {
    "collapsed": false
   },
   "outputs": [],
   "source": [
    "os.chdir(\"C://Users//rumer//Desktop//8May2017//DataSet\")"
   ]
  },
  {
   "cell_type": "code",
   "execution_count": 3,
   "metadata": {
    "collapsed": false
   },
   "outputs": [
    {
     "data": {
      "text/plain": [
       "Index([u'anon_screen_name', u'QuzAttmptAvg1', u'QuzCount1', u'QuzAvSco1',\n",
       "       u'QuzLagMean1', u'LecLag1', u'LecCount1', u'VidActCount1', u'eff1',\n",
       "       u'QuzAttmptAvg2', u'QuzCount2', u'QuzAvSco2', u'QuzLagMean2',\n",
       "       u'LecLag2', u'LecCount2', u'VidActCount2', u'eff2', u'QuzAttmptAvg3',\n",
       "       u'QuzCount3', u'QuzAvSco3', u'QuzLagMean3', u'LecLag3', u'LecCount3',\n",
       "       u'VidActCount3', u'eff3', u'QuzAttmptAvg4', u'QuzCount4', u'QuzAvSco4',\n",
       "       u'QuzLagMean4', u'LecLag4', u'LecCount4', u'VidActCount4', u'eff4',\n",
       "       u'QuzAttmptAvg5', u'QuzCount5', u'QuzAvSco5', u'QuzLagMean5',\n",
       "       u'LecLag5', u'LecCount5', u'VidActCount5', u'eff5', u'Finalgrade',\n",
       "       u'FinalScore', u'Class', u'EngStatus'],\n",
       "      dtype='object')"
      ]
     },
     "execution_count": 3,
     "metadata": {},
     "output_type": "execute_result"
    }
   ],
   "source": [
    "df=pd.read_csv(\"w5.csv\")\n",
    "df.columns"
   ]
  },
  {
   "cell_type": "code",
   "execution_count": 4,
   "metadata": {
    "collapsed": false
   },
   "outputs": [
    {
     "data": {
      "text/html": [
       "<div>\n",
       "<table border=\"1\" class=\"dataframe\">\n",
       "  <thead>\n",
       "    <tr style=\"text-align: right;\">\n",
       "      <th></th>\n",
       "      <th>anon_screen_name</th>\n",
       "      <th>QuzAttmptAvg1</th>\n",
       "      <th>QuzCount1</th>\n",
       "      <th>QuzAvSco1</th>\n",
       "      <th>QuzLagMean1</th>\n",
       "      <th>LecLag1</th>\n",
       "      <th>LecCount1</th>\n",
       "      <th>VidActCount1</th>\n",
       "      <th>eff1</th>\n",
       "      <th>QuzAttmptAvg2</th>\n",
       "      <th>...</th>\n",
       "      <th>QuzAvSco5</th>\n",
       "      <th>QuzLagMean5</th>\n",
       "      <th>LecLag5</th>\n",
       "      <th>LecCount5</th>\n",
       "      <th>VidActCount5</th>\n",
       "      <th>eff5</th>\n",
       "      <th>Finalgrade</th>\n",
       "      <th>FinalScore</th>\n",
       "      <th>Class</th>\n",
       "      <th>EngStatus</th>\n",
       "    </tr>\n",
       "  </thead>\n",
       "  <tbody>\n",
       "    <tr>\n",
       "      <th>0</th>\n",
       "      <td>012113d6241059a1c191068a899c0396fa3f3ee9</td>\n",
       "      <td>1.500000</td>\n",
       "      <td>25.0</td>\n",
       "      <td>93.750000</td>\n",
       "      <td>540.00</td>\n",
       "      <td>0</td>\n",
       "      <td>0.0</td>\n",
       "      <td>5</td>\n",
       "      <td>0</td>\n",
       "      <td>0</td>\n",
       "      <td>...</td>\n",
       "      <td>0</td>\n",
       "      <td>0</td>\n",
       "      <td>0</td>\n",
       "      <td>0</td>\n",
       "      <td>0</td>\n",
       "      <td>8</td>\n",
       "      <td>0.00</td>\n",
       "      <td>Fail</td>\n",
       "      <td>BelowAverage</td>\n",
       "      <td>Time&lt;10Mins</td>\n",
       "    </tr>\n",
       "    <tr>\n",
       "      <th>1</th>\n",
       "      <td>01494288a5ff7efce6e88f56eed694345c5d4bff</td>\n",
       "      <td>0.000000</td>\n",
       "      <td>0.0</td>\n",
       "      <td>0.000000</td>\n",
       "      <td>0.00</td>\n",
       "      <td>14423340</td>\n",
       "      <td>12.5</td>\n",
       "      <td>4</td>\n",
       "      <td>0</td>\n",
       "      <td>2</td>\n",
       "      <td>...</td>\n",
       "      <td>0</td>\n",
       "      <td>0</td>\n",
       "      <td>0</td>\n",
       "      <td>0</td>\n",
       "      <td>0</td>\n",
       "      <td>739</td>\n",
       "      <td>0.05</td>\n",
       "      <td>Fail</td>\n",
       "      <td>BelowAverage</td>\n",
       "      <td>Time&lt;10Mins</td>\n",
       "    </tr>\n",
       "    <tr>\n",
       "      <th>2</th>\n",
       "      <td>02a0c112546f7f05eadaf34efb3548d8702a481f</td>\n",
       "      <td>1.142857</td>\n",
       "      <td>87.5</td>\n",
       "      <td>88.095714</td>\n",
       "      <td>18787782.86</td>\n",
       "      <td>247320</td>\n",
       "      <td>25.0</td>\n",
       "      <td>3</td>\n",
       "      <td>623</td>\n",
       "      <td>0</td>\n",
       "      <td>...</td>\n",
       "      <td>0</td>\n",
       "      <td>0</td>\n",
       "      <td>0</td>\n",
       "      <td>0</td>\n",
       "      <td>0</td>\n",
       "      <td>0</td>\n",
       "      <td>0.00</td>\n",
       "      <td>Fail</td>\n",
       "      <td>BelowAverage</td>\n",
       "      <td>Time&lt;10Mins</td>\n",
       "    </tr>\n",
       "    <tr>\n",
       "      <th>3</th>\n",
       "      <td>030541f53670bc50fae8964a78cec71bcfd069b0</td>\n",
       "      <td>0.000000</td>\n",
       "      <td>0.0</td>\n",
       "      <td>0.000000</td>\n",
       "      <td>0.00</td>\n",
       "      <td>0</td>\n",
       "      <td>0.0</td>\n",
       "      <td>29</td>\n",
       "      <td>0</td>\n",
       "      <td>0</td>\n",
       "      <td>...</td>\n",
       "      <td>0</td>\n",
       "      <td>0</td>\n",
       "      <td>0</td>\n",
       "      <td>0</td>\n",
       "      <td>0</td>\n",
       "      <td>178</td>\n",
       "      <td>0.36</td>\n",
       "      <td>Fail</td>\n",
       "      <td>BelowAverage</td>\n",
       "      <td>Time&lt;10Mins</td>\n",
       "    </tr>\n",
       "    <tr>\n",
       "      <th>4</th>\n",
       "      <td>04badfbd3e9dfb420065a6ea7cad05db20fa2a5b</td>\n",
       "      <td>0.000000</td>\n",
       "      <td>0.0</td>\n",
       "      <td>0.000000</td>\n",
       "      <td>0.00</td>\n",
       "      <td>0</td>\n",
       "      <td>0.0</td>\n",
       "      <td>9</td>\n",
       "      <td>0</td>\n",
       "      <td>0</td>\n",
       "      <td>...</td>\n",
       "      <td>0</td>\n",
       "      <td>0</td>\n",
       "      <td>0</td>\n",
       "      <td>0</td>\n",
       "      <td>0</td>\n",
       "      <td>0</td>\n",
       "      <td>0.09</td>\n",
       "      <td>Fail</td>\n",
       "      <td>BelowAverage</td>\n",
       "      <td>Time&lt;10Mins</td>\n",
       "    </tr>\n",
       "  </tbody>\n",
       "</table>\n",
       "<p>5 rows × 45 columns</p>\n",
       "</div>"
      ],
      "text/plain": [
       "                           anon_screen_name  QuzAttmptAvg1  QuzCount1  \\\n",
       "0  012113d6241059a1c191068a899c0396fa3f3ee9       1.500000       25.0   \n",
       "1  01494288a5ff7efce6e88f56eed694345c5d4bff       0.000000        0.0   \n",
       "2  02a0c112546f7f05eadaf34efb3548d8702a481f       1.142857       87.5   \n",
       "3  030541f53670bc50fae8964a78cec71bcfd069b0       0.000000        0.0   \n",
       "4  04badfbd3e9dfb420065a6ea7cad05db20fa2a5b       0.000000        0.0   \n",
       "\n",
       "   QuzAvSco1  QuzLagMean1   LecLag1  LecCount1  VidActCount1  eff1  \\\n",
       "0  93.750000       540.00         0        0.0             5     0   \n",
       "1   0.000000         0.00  14423340       12.5             4     0   \n",
       "2  88.095714  18787782.86    247320       25.0             3   623   \n",
       "3   0.000000         0.00         0        0.0            29     0   \n",
       "4   0.000000         0.00         0        0.0             9     0   \n",
       "\n",
       "   QuzAttmptAvg2     ...       QuzAvSco5  QuzLagMean5  LecLag5  LecCount5  \\\n",
       "0              0     ...               0            0        0          0   \n",
       "1              2     ...               0            0        0          0   \n",
       "2              0     ...               0            0        0          0   \n",
       "3              0     ...               0            0        0          0   \n",
       "4              0     ...               0            0        0          0   \n",
       "\n",
       "   VidActCount5  eff5  Finalgrade  FinalScore         Class    EngStatus  \n",
       "0             0     8        0.00        Fail  BelowAverage  Time<10Mins  \n",
       "1             0   739        0.05        Fail  BelowAverage  Time<10Mins  \n",
       "2             0     0        0.00        Fail  BelowAverage  Time<10Mins  \n",
       "3             0   178        0.36        Fail  BelowAverage  Time<10Mins  \n",
       "4             0     0        0.09        Fail  BelowAverage  Time<10Mins  \n",
       "\n",
       "[5 rows x 45 columns]"
      ]
     },
     "execution_count": 4,
     "metadata": {},
     "output_type": "execute_result"
    }
   ],
   "source": [
    "df.head()"
   ]
  },
  {
   "cell_type": "code",
   "execution_count": 5,
   "metadata": {
    "collapsed": true
   },
   "outputs": [],
   "source": [
    "df.drop('Finalgrade',1, inplace=True)\n",
    "df.drop('eff5',1, inplace=True)\n",
    "df.drop('FinalScore',1, inplace=True)\n",
    "df.drop('EngStatus',1, inplace=True)"
   ]
  },
  {
   "cell_type": "code",
   "execution_count": 6,
   "metadata": {
    "collapsed": false
   },
   "outputs": [
    {
     "data": {
      "text/plain": [
       "Index([u'anon_screen_name', u'QuzAttmptAvg1', u'QuzCount1', u'QuzAvSco1',\n",
       "       u'QuzLagMean1', u'LecLag1', u'LecCount1', u'VidActCount1', u'eff1',\n",
       "       u'QuzAttmptAvg2', u'QuzCount2', u'QuzAvSco2', u'QuzLagMean2',\n",
       "       u'LecLag2', u'LecCount2', u'VidActCount2', u'eff2', u'QuzAttmptAvg3',\n",
       "       u'QuzCount3', u'QuzAvSco3', u'QuzLagMean3', u'LecLag3', u'LecCount3',\n",
       "       u'VidActCount3', u'eff3', u'QuzAttmptAvg4', u'QuzCount4', u'QuzAvSco4',\n",
       "       u'QuzLagMean4', u'LecLag4', u'LecCount4', u'VidActCount4', u'eff4',\n",
       "       u'QuzAttmptAvg5', u'QuzCount5', u'QuzAvSco5', u'QuzLagMean5',\n",
       "       u'LecLag5', u'LecCount5', u'VidActCount5', u'Class'],\n",
       "      dtype='object')"
      ]
     },
     "execution_count": 6,
     "metadata": {},
     "output_type": "execute_result"
    }
   ],
   "source": [
    "df.columns"
   ]
  },
  {
   "cell_type": "code",
   "execution_count": 7,
   "metadata": {
    "collapsed": true
   },
   "outputs": [],
   "source": [
    "df['Class'] = df['Class'].map({'AboveAvgEngaged': 'Engaged', 'AverageEngaged': 'Engaged','BelowAverage':'NotEngaged'})\n",
    "\n"
   ]
  },
  {
   "cell_type": "code",
   "execution_count": 9,
   "metadata": {
    "collapsed": false
   },
   "outputs": [],
   "source": [
    "array=df.values\n",
    "X = array[:,1:40]\n",
    "y = array[:,40]\n"
   ]
  },
  {
   "cell_type": "code",
   "execution_count": 64,
   "metadata": {
    "collapsed": false
   },
   "outputs": [],
   "source": [
    "#from sklearn.preprocessing import LabelBinarizer\n",
    "#lb = LabelBinarizer()\n",
    "#y = np.array([number[0] for number in lb.fit_transform(y)])\n"
   ]
  },
  {
   "cell_type": "code",
   "execution_count": 10,
   "metadata": {
    "collapsed": false
   },
   "outputs": [],
   "source": [
    "scaler = Normalizer().fit(X)\n",
    "normalizedX = scaler.transform(X)\n",
    "X=normalizedX"
   ]
  },
  {
   "cell_type": "code",
   "execution_count": 11,
   "metadata": {
    "collapsed": false
   },
   "outputs": [
    {
     "name": "stdout",
     "output_type": "stream",
     "text": [
      "('Number of records', 10590)\n",
      "('Class Distribuition', Class\n",
      "Engaged       4203\n",
      "NotEngaged    6387\n",
      "dtype: int64)\n"
     ]
    }
   ],
   "source": [
    "validation_size = 0.20\n",
    "print(\"Number of records\", len(X))\n",
    "print(\"Class Distribuition\", df.groupby('Class').size())\n",
    "#plt.plot(df['ActCount-1'])\n"
   ]
  },
  {
   "cell_type": "code",
   "execution_count": 12,
   "metadata": {
    "collapsed": true
   },
   "outputs": [],
   "source": [
    "seed = 7\n",
    "X_train, X_test, Y_train, y_test = cross_validation.train_test_split(X, y, test_size=validation_size, random_state=seed)"
   ]
  },
  {
   "cell_type": "code",
   "execution_count": 13,
   "metadata": {
    "collapsed": false
   },
   "outputs": [
    {
     "name": "stdout",
     "output_type": "stream",
     "text": [
      "LR: 78.659127 (0.019105)\n",
      "DTree: 81.125894 (0.012809)\n",
      "KNN: 80.252556 (0.016202)\n",
      "CART: 81.184926 (0.011617)\n",
      "NB: 42.776990 (0.095330)\n",
      "SVM: 73.666353 (0.023346)\n"
     ]
    }
   ],
   "source": [
    "# Test options and evaluation metric\n",
    "num_folds = 10\n",
    "num_instances = len(X_train)\n",
    "seed = 7\n",
    "scoring = 'accuracy'\n",
    "models=[]\n",
    "models.append(('LR',LogisticRegression()))\n",
    "models.append(('DTree', DecisionTreeClassifier()))\n",
    "#models.append(('LDA',LinearDiscriminaantAnalysis()))\n",
    "models.append(('KNN',KNeighborsClassifier()))\n",
    "models.append(('CART',DecisionTreeClassifier()))\n",
    "models.append(('NB',GaussianNB()))\n",
    "models.append(('SVM',SVC()))\n",
    "#Evaluate each model\n",
    "results=[]\n",
    "names=[]\n",
    "for name, model in models:\n",
    "    kfold = cross_validation.KFold(n=num_instances, n_folds=num_folds, random_state=seed)\n",
    "    cv_results = cross_validation.cross_val_score(model, X_train, Y_train, cv=kfold, scoring=scoring)\n",
    "    results.append(cv_results)\n",
    "    names.append(name)\n",
    "    msg = \"%s: %f (%f)\" % (name, cv_results.mean()*100, cv_results.std())\n",
    "    print(msg)\n",
    "    # Compare Algorithms"
   ]
  },
  {
   "cell_type": "code",
   "execution_count": 14,
   "metadata": {
    "collapsed": false
   },
   "outputs": [
    {
     "data": {
      "image/png": "[encoded data removed]",
      "text/plain": [
       "<matplotlib.figure.Figure at 0x224dc208>"
      ]
     },
     "metadata": {},
     "output_type": "display_data"
    }
   ],
   "source": [
    "fig = plt.figure()\n",
    "fig.suptitle('Week-1 to predict Final Grade')\n",
    "ax = fig.add_subplot(111)\n",
    "plt.boxplot(results)\n",
    "plt.ylabel(\"F1-Score\")\n",
    "plt.xlabel(\"Classifiers\")\n",
    "ax.set_xticklabels(names)\n",
    "plt.show()"
   ]
  },
  {
   "cell_type": "code",
   "execution_count": 16,
   "metadata": {
    "collapsed": false
   },
   "outputs": [
    {
     "name": "stdout",
     "output_type": "stream",
     "text": [
      "Decision Tree\n",
      "0.796033994334\n",
      "[[ 605  256]\n",
      " [ 176 1081]]\n",
      "             precision    recall  f1-score   support\n",
      "\n",
      "    Engaged       0.77      0.70      0.74       861\n",
      " NotEngaged       0.81      0.86      0.83      1257\n",
      "\n",
      "avg / total       0.79      0.80      0.79      2118\n",
      "\n"
     ]
    }
   ],
   "source": [
    "# Make predictions on validation dataset\n",
    "# -*- coding: utf-8 -*-\n",
    "print(\"Decision Tree\")\n",
    "LR = DecisionTreeClassifier()\n",
    "LR.fit(X_train, Y_train)\n",
    "predictions = LR.predict(X_test)\n",
    "print(accuracy_score(y_test, predictions))\n",
    "print(confusion_matrix(y_test, predictions))\n",
    "print(classification_report(y_test, predictions))\n",
    "\n"
   ]
  },
  {
   "cell_type": "code",
   "execution_count": 17,
   "metadata": {
    "collapsed": false
   },
   "outputs": [
    {
     "name": "stdout",
     "output_type": "stream",
     "text": [
      "GaussianNB\n",
      "0.409820585458\n",
      "[[ 861    0]\n",
      " [1250    7]]\n",
      "             precision    recall  f1-score   support\n",
      "\n",
      "    Engaged       0.41      1.00      0.58       861\n",
      " NotEngaged       1.00      0.01      0.01      1257\n",
      "\n",
      "avg / total       0.76      0.41      0.24      2118\n",
      "\n"
     ]
    }
   ],
   "source": [
    "print(\"GaussianNB\")\n",
    "LR = GaussianNB()\n",
    "LR.fit(X_train, Y_train)\n",
    "predictions = LR.predict(X_test)\n",
    "print(accuracy_score(y_test, predictions))\n",
    "print(confusion_matrix(y_test, predictions))\n",
    "print(classification_report(y_test, predictions))\n"
   ]
  },
  {
   "cell_type": "code",
   "execution_count": 18,
   "metadata": {
    "collapsed": false
   },
   "outputs": [
    {
     "name": "stdout",
     "output_type": "stream",
     "text": [
      "KNeighbors\n",
      "0.802644003777\n",
      "[[ 614  247]\n",
      " [ 171 1086]]\n",
      "             precision    recall  f1-score   support\n",
      "\n",
      "    Engaged       0.78      0.71      0.75       861\n",
      " NotEngaged       0.81      0.86      0.84      1257\n",
      "\n",
      "avg / total       0.80      0.80      0.80      2118\n",
      "\n"
     ]
    }
   ],
   "source": [
    "print(\"KNeighbors\")\n",
    "LR = KNeighborsClassifier()\n",
    "LR.fit(X_train, Y_train)\n",
    "predictions = LR.predict(X_test)\n",
    "print(accuracy_score(y_test, predictions))\n",
    "print(confusion_matrix(y_test, predictions))\n",
    "print(classification_report(y_test, predictions))\n"
   ]
  },
  {
   "cell_type": "code",
   "execution_count": 19,
   "metadata": {
    "collapsed": false
   },
   "outputs": [
    {
     "name": "stdout",
     "output_type": "stream",
     "text": [
      "LogisticRegression\n",
      "0.794617563739\n",
      "[[ 520  341]\n",
      " [  94 1163]]\n",
      "             precision    recall  f1-score   support\n",
      "\n",
      "    Engaged       0.85      0.60      0.71       861\n",
      " NotEngaged       0.77      0.93      0.84      1257\n",
      "\n",
      "avg / total       0.80      0.79      0.79      2118\n",
      "\n"
     ]
    }
   ],
   "source": [
    "print(\"LogisticRegression\")\n",
    "LR = LogisticRegression()\n",
    "LR.fit(X_train, Y_train)\n",
    "predictions = LR.predict(X_test)\n",
    "print(accuracy_score(y_test, predictions))\n",
    "print(confusion_matrix(y_test, predictions))\n",
    "print(classification_report(y_test, predictions))\n"
   ]
  },
  {
   "cell_type": "code",
   "execution_count": 20,
   "metadata": {
    "collapsed": false
   },
   "outputs": [
    {
     "name": "stdout",
     "output_type": "stream",
     "text": [
      "Support Vector Machine\n",
      "0.741737488196\n",
      "[[ 420  441]\n",
      " [ 106 1151]]\n",
      "             precision    recall  f1-score   support\n",
      "\n",
      "    Engaged       0.80      0.49      0.61       861\n",
      " NotEngaged       0.72      0.92      0.81      1257\n",
      "\n",
      "avg / total       0.75      0.74      0.73      2118\n",
      "\n"
     ]
    }
   ],
   "source": [
    "print(\"Support Vector Machine\")\n",
    "LR = SVC()\n",
    "LR.fit(X_train, Y_train)\n",
    "predictions = LR.predict(X_test)\n",
    "print(accuracy_score(y_test, predictions))\n",
    "print(confusion_matrix(y_test, predictions))\n",
    "print(classification_report(y_test, predictions))\n"
   ]
  },
  {
   "cell_type": "markdown",
   "metadata": {
    "collapsed": true
   },
   "source": [
    "# RAndom fores t"
   ]
  },
  {
   "cell_type": "code",
   "execution_count": 21,
   "metadata": {
    "collapsed": true
   },
   "outputs": [],
   "source": [
    "from pandas import Series, DataFrame\n",
    "import pandas as pd\n",
    "import numpy as np\n",
    "import seaborn as sns\n",
    "import sklearn.cross_validation\n",
    "import os\n",
    "from sklearn.cross_validation import train_test_split\n",
    "from sklearn.tree import DecisionTreeClassifier\n",
    "from sklearn.metrics import classification_report\n",
    "import sklearn.metrics\n",
    " # Feature Importance\n",
    "from sklearn import datasets\n",
    "from matplotlib import pyplot as plt\n",
    "from sklearn.ensemble import ExtraTreesClassifier\n"
   ]
  },
  {
   "cell_type": "code",
   "execution_count": 22,
   "metadata": {
    "collapsed": true
   },
   "outputs": [],
   "source": [
    "os.chdir(\"C://Users//rumer//Desktop//8May2017//DataSet\")"
   ]
  },
  {
   "cell_type": "code",
   "execution_count": 23,
   "metadata": {
    "collapsed": false
   },
   "outputs": [
    {
     "data": {
      "text/plain": [
       "Index([u'anon_screen_name', u'QuzAttmptAvg1', u'QuzCount1', u'QuzAvSco1',\n",
       "       u'QuzLagMean1', u'LecLag1', u'LecCount1', u'VidActCount1', u'eff1',\n",
       "       u'QuzAttmptAvg2', u'QuzCount2', u'QuzAvSco2', u'QuzLagMean2',\n",
       "       u'LecLag2', u'LecCount2', u'VidActCount2', u'eff2', u'QuzAttmptAvg3',\n",
       "       u'QuzCount3', u'QuzAvSco3', u'QuzLagMean3', u'LecLag3', u'LecCount3',\n",
       "       u'VidActCount3', u'eff3', u'QuzAttmptAvg4', u'QuzCount4', u'QuzAvSco4',\n",
       "       u'QuzLagMean4', u'LecLag4', u'LecCount4', u'VidActCount4', u'eff4',\n",
       "       u'QuzAttmptAvg5', u'QuzCount5', u'QuzAvSco5', u'QuzLagMean5',\n",
       "       u'LecLag5', u'LecCount5', u'VidActCount5', u'eff5', u'Finalgrade',\n",
       "       u'FinalScore', u'Class', u'EngStatus'],\n",
       "      dtype='object')"
      ]
     },
     "execution_count": 23,
     "metadata": {},
     "output_type": "execute_result"
    }
   ],
   "source": [
    "df=pd.read_csv(\"W5.csv\")\n",
    "df.columns"
   ]
  },
  {
   "cell_type": "code",
   "execution_count": 24,
   "metadata": {
    "collapsed": true
   },
   "outputs": [],
   "source": [
    "df['Class'] = df['Class'].map({'AboveAvgEngaged': 'Engaged', 'AverageEngaged': 'Engaged','BelowAverage':'NotEngaged'})"
   ]
  },
  {
   "cell_type": "code",
   "execution_count": 25,
   "metadata": {
    "collapsed": true
   },
   "outputs": [],
   "source": [
    "predictors=df[['QuzAttmptAvg1', 'QuzCount1', 'QuzAvSco1',\n",
    "       'QuzLagMean1', 'LecLag1', 'LecCount1', 'VidActCount1', 'eff1',\n",
    "       'QuzAttmptAvg2', 'QuzCount2', 'QuzAvSco2', 'QuzLagMean2',\n",
    "       'LecLag2', 'LecCount2', 'VidActCount2', 'eff2', 'QuzAttmptAvg3',\n",
    "       'QuzCount3', 'QuzAvSco3', 'QuzLagMean3', 'LecLag3', 'LecCount3',\n",
    "       'VidActCount3','eff3', 'QuzAttmptAvg4', 'QuzCount4', 'QuzAvSco4',\n",
    "       'QuzLagMean4', 'LecLag4', 'LecCount4', 'VidActCount4','eff4',\n",
    "       'QuzAttmptAvg5', 'QuzCount5', 'QuzAvSco5', 'QuzLagMean5',\n",
    "       'LecLag5', 'LecCount5', 'VidActCount5']]\n",
    "X=predictors.as_matrix()"
   ]
  },
  {
   "cell_type": "code",
   "execution_count": 26,
   "metadata": {
    "collapsed": true
   },
   "outputs": [],
   "source": [
    "targets=df.Class\n",
    "Y=np.asarray(targets)"
   ]
  },
  {
   "cell_type": "code",
   "execution_count": 27,
   "metadata": {
    "collapsed": true
   },
   "outputs": [],
   "source": [
    "pred_train,pred_test,tar_train,tar_test=train_test_split(predictors,targets,test_size=.4)"
   ]
  },
  {
   "cell_type": "code",
   "execution_count": 28,
   "metadata": {
    "collapsed": false
   },
   "outputs": [
    {
     "data": {
      "text/plain": [
       "(4236L,)"
      ]
     },
     "execution_count": 28,
     "metadata": {},
     "output_type": "execute_result"
    }
   ],
   "source": [
    "pred_train.shape\n",
    "pred_test.shape\n",
    "tar_train.shape\n",
    "tar_test.shape"
   ]
  },
  {
   "cell_type": "code",
   "execution_count": 29,
   "metadata": {
    "collapsed": true
   },
   "outputs": [],
   "source": [
    "from sklearn.ensemble import RandomForestClassifier\n",
    "classifier=RandomForestClassifier(n_estimators=25)\n",
    "classifier=classifier.fit(pred_train,tar_train)"
   ]
  },
  {
   "cell_type": "code",
   "execution_count": 30,
   "metadata": {
    "collapsed": true
   },
   "outputs": [],
   "source": [
    "predictions=classifier.predict(pred_test)"
   ]
  },
  {
   "cell_type": "code",
   "execution_count": 31,
   "metadata": {
    "collapsed": false
   },
   "outputs": [
    {
     "data": {
      "text/plain": [
       "array([[1419,  219],\n",
       "       [  92, 2506]])"
      ]
     },
     "execution_count": 31,
     "metadata": {},
     "output_type": "execute_result"
    }
   ],
   "source": [
    "sklearn.metrics.confusion_matrix(tar_test,predictions)"
   ]
  },
  {
   "cell_type": "code",
   "execution_count": 32,
   "metadata": {
    "collapsed": false
   },
   "outputs": [
    {
     "data": {
      "text/plain": [
       "0.92658168083097259"
      ]
     },
     "execution_count": 32,
     "metadata": {},
     "output_type": "execute_result"
    }
   ],
   "source": [
    "sklearn.metrics.accuracy_score(tar_test,predictions)"
   ]
  },
  {
   "cell_type": "code",
   "execution_count": 33,
   "metadata": {
    "collapsed": false
   },
   "outputs": [
    {
     "name": "stdout",
     "output_type": "stream",
     "text": [
      "             precision    recall  f1-score   support\n",
      "\n",
      "    Engaged       0.94      0.87      0.90      1638\n",
      " NotEngaged       0.92      0.96      0.94      2598\n",
      "\n",
      "avg / total       0.93      0.93      0.93      4236\n",
      "\n"
     ]
    }
   ],
   "source": [
    "print(classification_report(tar_test,predictions))"
   ]
  },
  {
   "cell_type": "code",
   "execution_count": 34,
   "metadata": {
    "collapsed": true
   },
   "outputs": [],
   "source": [
    "trees=range(25)\n",
    "accuracy=np.zeros(25)\n",
    "for idx in range(len(trees)):\n",
    "    classifier=RandomForestClassifier(n_estimators=idx+1)\n",
    "    classifier=classifier.fit(pred_train,tar_train)\n",
    "    predictions=classifier.predict(pred_test)\n",
    "    accuracy[idx]=sklearn.metrics.accuracy_score(tar_test,predictions)"
   ]
  },
  {
   "cell_type": "code",
   "execution_count": 35,
   "metadata": {
    "collapsed": false
   },
   "outputs": [
    {
     "data": {
      "image/png": "[encoded data removed]",
      "text/plain": [
       "<matplotlib.figure.Figure at 0x289e74a8>"
      ]
     },
     "metadata": {},
     "output_type": "display_data"
    }
   ],
   "source": [
    "plt.cla()\n",
    "plt.plot(trees,accuracy)\n",
    "plt.show()"
   ]
  },
  {
   "cell_type": "markdown",
   "metadata": {},
   "source": [
    "# Feature Importance"
   ]
  },
  {
   "cell_type": "code",
   "execution_count": 36,
   "metadata": {
    "collapsed": true
   },
   "outputs": [],
   "source": [
    "from pandas import Series, DataFrame\n",
    "import pandas as pd\n",
    "import numpy as np\n",
    "import seaborn as sns\n",
    "import sklearn.cross_validation\n",
    "import os\n",
    "from sklearn.cross_validation import train_test_split\n",
    "from sklearn.tree import DecisionTreeClassifier\n",
    "from sklearn.metrics import classification_report\n",
    "import sklearn.metrics\n",
    " # Feature Importance\n",
    "from sklearn import datasets\n",
    "from matplotlib import pyplot as plt\n",
    "from sklearn.ensemble import ExtraTreesClassifier"
   ]
  },
  {
   "cell_type": "code",
   "execution_count": 37,
   "metadata": {
    "collapsed": true
   },
   "outputs": [],
   "source": [
    "os.chdir(\"C://Users//rumer//Desktop//8May2017//DataSet\")"
   ]
  },
  {
   "cell_type": "code",
   "execution_count": 38,
   "metadata": {
    "collapsed": false
   },
   "outputs": [
    {
     "data": {
      "text/plain": [
       "Index([u'anon_screen_name', u'QuzAttmptAvg1', u'QuzCount1', u'QuzAvSco1',\n",
       "       u'QuzLagMean1', u'LecLag1', u'LecCount1', u'VidActCount1', u'eff1',\n",
       "       u'QuzAttmptAvg2', u'QuzCount2', u'QuzAvSco2', u'QuzLagMean2',\n",
       "       u'LecLag2', u'LecCount2', u'VidActCount2', u'eff2', u'QuzAttmptAvg3',\n",
       "       u'QuzCount3', u'QuzAvSco3', u'QuzLagMean3', u'LecLag3', u'LecCount3',\n",
       "       u'VidActCount3', u'eff3', u'QuzAttmptAvg4', u'QuzCount4', u'QuzAvSco4',\n",
       "       u'QuzLagMean4', u'LecLag4', u'LecCount4', u'VidActCount4', u'eff4',\n",
       "       u'QuzAttmptAvg5', u'QuzCount5', u'QuzAvSco5', u'QuzLagMean5',\n",
       "       u'LecLag5', u'LecCount5', u'VidActCount5', u'eff5', u'Finalgrade',\n",
       "       u'FinalScore', u'Class', u'EngStatus'],\n",
       "      dtype='object')"
      ]
     },
     "execution_count": 38,
     "metadata": {},
     "output_type": "execute_result"
    }
   ],
   "source": [
    "df=pd.read_csv(\"W5.csv\")\n",
    "df.columns"
   ]
  },
  {
   "cell_type": "code",
   "execution_count": 39,
   "metadata": {
    "collapsed": false
   },
   "outputs": [],
   "source": [
    "d=df[['QuzAttmptAvg1', 'QuzCount1', 'QuzAvSco1',\n",
    "       'QuzLagMean1', 'LecLag1', 'LecCount1', 'VidActCount1', 'eff1',\n",
    "       'QuzAttmptAvg2', 'QuzCount2', 'QuzAvSco2', 'QuzLagMean2',\n",
    "       'LecLag2', 'LecCount2', 'VidActCount2', 'eff2', 'QuzAttmptAvg3',\n",
    "       'QuzCount3', 'QuzAvSco3', 'QuzLagMean3', 'LecLag3', 'LecCount3',\n",
    "       'VidActCount3','eff3', 'QuzAttmptAvg4', 'QuzCount4', 'QuzAvSco4',\n",
    "       'QuzLagMean4', 'LecLag4', 'LecCount4', 'VidActCount4','eff4',\n",
    "       'QuzAttmptAvg5', 'QuzCount5', 'QuzAvSco5', 'QuzLagMean5',\n",
    "       'LecLag5', 'LecCount5', 'VidActCount5']]\n",
    "X=d.as_matrix()"
   ]
  },
  {
   "cell_type": "code",
   "execution_count": 40,
   "metadata": {
    "collapsed": true
   },
   "outputs": [],
   "source": [
    "targets=df.Class\n",
    "Y=np.asarray(targets)"
   ]
  },
  {
   "cell_type": "code",
   "execution_count": 41,
   "metadata": {
    "collapsed": false
   },
   "outputs": [
    {
     "data": {
      "text/plain": [
       "list"
      ]
     },
     "execution_count": 41,
     "metadata": {},
     "output_type": "execute_result"
    }
   ],
   "source": [
    "from matplotlib import pyplot as plt\n",
    "import seaborn as sns\n",
    "from sklearn.ensemble import RandomForestClassifier\n",
    "from sklearn.cross_validation import cross_val_score\n",
    "scores=[]\n",
    "for val in range(1,41):\n",
    "    clf=RandomForestClassifier(n_estimators=val)\n",
    "    Validated=cross_val_score(clf,X,Y,cv=10)\n",
    "    scores.append(Validated)\n",
    "type(scores)"
   ]
  },
  {
   "cell_type": "code",
   "execution_count": 42,
   "metadata": {
    "collapsed": false
   },
   "outputs": [
    {
     "data": {
      "image/png": "[encoded data removed]",
      "text/plain": [
       "<matplotlib.figure.Figure at 0x289e7fd0>"
      ]
     },
     "metadata": {},
     "output_type": "display_data"
    }
   ],
   "source": [
    "clf=RandomForestClassifier(n_estimators=25)\n",
    "clf.fit(X,Y)\n",
    "imp=clf.feature_importances_\n",
    "names=d.columns\n",
    "\n",
    "imp,names=zip(*sorted(zip(imp,names)))\n",
    "plt.barh(range(len(names)),imp,align='center')\n",
    "plt.yticks(range(len(names)),names)\n",
    "plt.xlabel('Importance of Features')\n",
    "plt.ylabel('Features')\n",
    "plt.title('Importance of each feature')\n",
    "plt.show()"
   ]
  },
  {
   "cell_type": "code",
   "execution_count": null,
   "metadata": {
    "collapsed": true
   },
   "outputs": [],
   "source": []
  }
 ],
 "metadata": {
  "kernelspec": {
   "display_name": "Python 2",
   "language": "python",
   "name": "python2"
  },
  "language_info": {
   "codemirror_mode": {
    "name": "ipython",
    "version": 2
   },
   "file_extension": ".py",
   "mimetype": "text/x-python",
   "name": "python",
   "nbconvert_exporter": "python",
   "pygments_lexer": "ipython2",
   "version": "2.7.10"
  }
 },
 "nbformat": 4,
 "nbformat_minor": 0
}
