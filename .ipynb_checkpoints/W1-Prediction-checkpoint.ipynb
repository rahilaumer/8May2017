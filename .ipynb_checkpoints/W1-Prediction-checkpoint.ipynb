{
 "cells": [
  {
   "cell_type": "code",
   "execution_count": 25,
   "metadata": {
    "collapsed": true
   },
   "outputs": [],
   "source": [
    "import pandas as pd\n",
    "from pandas.tools.plotting import scatter_matrix\n",
    "from sklearn import metrics\n",
    "import matplotlib.pyplot as plt\n",
    "from sklearn import cross_validation\n",
    "from sklearn.metrics import classification_report\n",
    "from sklearn.metrics import confusion_matrix\n",
    "from sklearn.metrics import accuracy_score\n",
    "from sklearn.linear_model import LogisticRegression\n",
    "from sklearn.tree import DecisionTreeClassifier\n",
    "from sklearn.neighbors import KNeighborsClassifier\n",
    "#from sklearn.discriminant_analysis import LinearDiscriminantAnalysis\n",
    "from sklearn.naive_bayes import GaussianNB\n",
    "from sklearn.svm import SVC\n",
    "from sklearn.preprocessing import Normalizer\n",
    "from sklearn.preprocessing import StandardScaler\n",
    "from sklearn.preprocessing import MinMaxScaler\n",
    "from sklearn.datasets import make_classification\n",
    "from sklearn.cross_validation import cross_val_predict\n",
    "import matplotlib.pyplot as plt\n",
    "import pandas as pd\n",
    "import numpy as np\n",
    "import seaborn as sns\n",
    "from pylab import rcParams\n",
    "import os\n",
    "# plot feature importance using built-in function\n",
    "from numpy import loadtxt\n",
    "from matplotlib import pyplot\n",
    "%matplotlib inline\n",
    "from sklearn.multiclass import OneVsRestClassifier\n",
    "from scipy import interp\n",
    "from sklearn import svm, datasets\n",
    "from sklearn.metrics import roc_curve, auc"
   ]
  },
  {
   "cell_type": "code",
   "execution_count": 26,
   "metadata": {
    "collapsed": false
   },
   "outputs": [],
   "source": [
    "os.chdir(\"C://Users//rumer//Desktop//8May2017//DataSet\")"
   ]
  },
  {
   "cell_type": "code",
   "execution_count": 29,
   "metadata": {
    "collapsed": false
   },
   "outputs": [
    {
     "data": {
      "text/plain": [
       "Index([u'anon_screen_name', u'QuzAttmptAvg1', u'QuzCount1', u'QuzAvSco1',\n",
       "       u'QuzLagMean1', u'LecLag1', u'LecCount1', u'VidActCount1', u'eff1',\n",
       "       u'Finalgrade', u'FinalScore', u'Class', u'EngStatus'],\n",
       "      dtype='object')"
      ]
     },
     "execution_count": 29,
     "metadata": {},
     "output_type": "execute_result"
    }
   ],
   "source": [
    "df=pd.read_csv(\"w1.csv\")\n",
    "df.columns"
   ]
  },
  {
   "cell_type": "code",
   "execution_count": null,
   "metadata": {
    "collapsed": true
   },
   "outputs": [],
   "source": []
  },
  {
   "cell_type": "code",
   "execution_count": 30,
   "metadata": {
    "collapsed": false
   },
   "outputs": [
    {
     "data": {
      "text/html": [
       "<div>\n",
       "<table border=\"1\" class=\"dataframe\">\n",
       "  <thead>\n",
       "    <tr style=\"text-align: right;\">\n",
       "      <th></th>\n",
       "      <th>anon_screen_name</th>\n",
       "      <th>QuzAttmptAvg1</th>\n",
       "      <th>QuzCount1</th>\n",
       "      <th>QuzAvSco1</th>\n",
       "      <th>QuzLagMean1</th>\n",
       "      <th>LecLag1</th>\n",
       "      <th>LecCount1</th>\n",
       "      <th>VidActCount1</th>\n",
       "      <th>eff1</th>\n",
       "      <th>Finalgrade</th>\n",
       "      <th>FinalScore</th>\n",
       "      <th>Class</th>\n",
       "      <th>EngStatus</th>\n",
       "    </tr>\n",
       "  </thead>\n",
       "  <tbody>\n",
       "    <tr>\n",
       "      <th>0</th>\n",
       "      <td>012113d6241059a1c191068a899c0396fa3f3ee9</td>\n",
       "      <td>1.500000</td>\n",
       "      <td>25.0</td>\n",
       "      <td>93.750000</td>\n",
       "      <td>540.00</td>\n",
       "      <td>0</td>\n",
       "      <td>0.0</td>\n",
       "      <td>5</td>\n",
       "      <td>0</td>\n",
       "      <td>0.00</td>\n",
       "      <td>Fail</td>\n",
       "      <td>BelowAverage</td>\n",
       "      <td>Time&lt;10Mins</td>\n",
       "    </tr>\n",
       "    <tr>\n",
       "      <th>1</th>\n",
       "      <td>01494288a5ff7efce6e88f56eed694345c5d4bff</td>\n",
       "      <td>0.000000</td>\n",
       "      <td>0.0</td>\n",
       "      <td>0.000000</td>\n",
       "      <td>0.00</td>\n",
       "      <td>14423340</td>\n",
       "      <td>12.5</td>\n",
       "      <td>4</td>\n",
       "      <td>0</td>\n",
       "      <td>0.05</td>\n",
       "      <td>Fail</td>\n",
       "      <td>BelowAverage</td>\n",
       "      <td>Time&lt;10Mins</td>\n",
       "    </tr>\n",
       "    <tr>\n",
       "      <th>2</th>\n",
       "      <td>02a0c112546f7f05eadaf34efb3548d8702a481f</td>\n",
       "      <td>1.142857</td>\n",
       "      <td>87.5</td>\n",
       "      <td>88.095714</td>\n",
       "      <td>18787782.86</td>\n",
       "      <td>247320</td>\n",
       "      <td>25.0</td>\n",
       "      <td>3</td>\n",
       "      <td>623</td>\n",
       "      <td>0.00</td>\n",
       "      <td>Fail</td>\n",
       "      <td>BelowAverage</td>\n",
       "      <td>Time&lt;10Mins</td>\n",
       "    </tr>\n",
       "    <tr>\n",
       "      <th>3</th>\n",
       "      <td>030541f53670bc50fae8964a78cec71bcfd069b0</td>\n",
       "      <td>0.000000</td>\n",
       "      <td>0.0</td>\n",
       "      <td>0.000000</td>\n",
       "      <td>0.00</td>\n",
       "      <td>0</td>\n",
       "      <td>0.0</td>\n",
       "      <td>29</td>\n",
       "      <td>0</td>\n",
       "      <td>0.36</td>\n",
       "      <td>Fail</td>\n",
       "      <td>BelowAverage</td>\n",
       "      <td>Time&lt;10Mins</td>\n",
       "    </tr>\n",
       "    <tr>\n",
       "      <th>4</th>\n",
       "      <td>04badfbd3e9dfb420065a6ea7cad05db20fa2a5b</td>\n",
       "      <td>0.000000</td>\n",
       "      <td>0.0</td>\n",
       "      <td>0.000000</td>\n",
       "      <td>0.00</td>\n",
       "      <td>0</td>\n",
       "      <td>0.0</td>\n",
       "      <td>9</td>\n",
       "      <td>0</td>\n",
       "      <td>0.09</td>\n",
       "      <td>Fail</td>\n",
       "      <td>BelowAverage</td>\n",
       "      <td>Time&lt;10Mins</td>\n",
       "    </tr>\n",
       "  </tbody>\n",
       "</table>\n",
       "</div>"
      ],
      "text/plain": [
       "                           anon_screen_name  QuzAttmptAvg1  QuzCount1  \\\n",
       "0  012113d6241059a1c191068a899c0396fa3f3ee9       1.500000       25.0   \n",
       "1  01494288a5ff7efce6e88f56eed694345c5d4bff       0.000000        0.0   \n",
       "2  02a0c112546f7f05eadaf34efb3548d8702a481f       1.142857       87.5   \n",
       "3  030541f53670bc50fae8964a78cec71bcfd069b0       0.000000        0.0   \n",
       "4  04badfbd3e9dfb420065a6ea7cad05db20fa2a5b       0.000000        0.0   \n",
       "\n",
       "   QuzAvSco1  QuzLagMean1   LecLag1  LecCount1  VidActCount1  eff1  \\\n",
       "0  93.750000       540.00         0        0.0             5     0   \n",
       "1   0.000000         0.00  14423340       12.5             4     0   \n",
       "2  88.095714  18787782.86    247320       25.0             3   623   \n",
       "3   0.000000         0.00         0        0.0            29     0   \n",
       "4   0.000000         0.00         0        0.0             9     0   \n",
       "\n",
       "   Finalgrade FinalScore         Class    EngStatus  \n",
       "0        0.00       Fail  BelowAverage  Time<10Mins  \n",
       "1        0.05       Fail  BelowAverage  Time<10Mins  \n",
       "2        0.00       Fail  BelowAverage  Time<10Mins  \n",
       "3        0.36       Fail  BelowAverage  Time<10Mins  \n",
       "4        0.09       Fail  BelowAverage  Time<10Mins  "
      ]
     },
     "execution_count": 30,
     "metadata": {},
     "output_type": "execute_result"
    }
   ],
   "source": [
    "df.head()"
   ]
  },
  {
   "cell_type": "code",
   "execution_count": 31,
   "metadata": {
    "collapsed": true
   },
   "outputs": [],
   "source": [
    "df.drop('Finalgrade',1, inplace=True)\n",
    "df.drop('eff1',1, inplace=True)\n",
    "df.drop('FinalScore',1, inplace=True)\n",
    "df.drop('EngStatus',1, inplace=True)"
   ]
  },
  {
   "cell_type": "code",
   "execution_count": 32,
   "metadata": {
    "collapsed": false
   },
   "outputs": [
    {
     "data": {
      "text/plain": [
       "Index([u'anon_screen_name', u'QuzAttmptAvg1', u'QuzCount1', u'QuzAvSco1',\n",
       "       u'QuzLagMean1', u'LecLag1', u'LecCount1', u'VidActCount1', u'Class'],\n",
       "      dtype='object')"
      ]
     },
     "execution_count": 32,
     "metadata": {},
     "output_type": "execute_result"
    }
   ],
   "source": [
    "df.columns"
   ]
  },
  {
   "cell_type": "code",
   "execution_count": 33,
   "metadata": {
    "collapsed": false
   },
   "outputs": [],
   "source": [
    "array=df.values\n",
    "X = array[:,1:8]\n",
    "y = array[:,8]\n"
   ]
  },
  {
   "cell_type": "code",
   "execution_count": 24,
   "metadata": {
    "collapsed": false
   },
   "outputs": [],
   "source": [
    "#from sklearn.preprocessing import LabelBinarizer\n",
    "#lb = LabelBinarizer()\n",
    "#y = np.array([number[0] for number in lb.fit_transform(y)])\n"
   ]
  },
  {
   "cell_type": "code",
   "execution_count": 34,
   "metadata": {
    "collapsed": false
   },
   "outputs": [],
   "source": [
    "scaler = Normalizer().fit(X)\n",
    "normalizedX = scaler.transform(X)\n",
    "X=normalizedX"
   ]
  },
  {
   "cell_type": "code",
   "execution_count": 36,
   "metadata": {
    "collapsed": false
   },
   "outputs": [
    {
     "name": "stdout",
     "output_type": "stream",
     "text": [
      "('Number of records', 10590)\n",
      "('Class Distribuition', Class\n",
      "AboveAvgEngaged    1330\n",
      "AverageEngaged     2873\n",
      "BelowAverage       6387\n",
      "dtype: int64)\n"
     ]
    }
   ],
   "source": [
    "validation_size = 0.20\n",
    "print(\"Number of records\", len(X))\n",
    "print(\"Class Distribuition\", df.groupby('Class').size())\n",
    "#plt.plot(df['ActCount-1'])\n"
   ]
  },
  {
   "cell_type": "code",
   "execution_count": 37,
   "metadata": {
    "collapsed": true
   },
   "outputs": [],
   "source": [
    "seed = 7\n",
    "X_train, X_test, Y_train, y_test = cross_validation.train_test_split(X, y, test_size=validation_size, random_state=seed)"
   ]
  },
  {
   "cell_type": "code",
   "execution_count": 38,
   "metadata": {
    "collapsed": false
   },
   "outputs": [
    {
     "name": "stdout",
     "output_type": "stream",
     "text": [
      "LR: 60.552324 (0.014468)\n",
      "DTree: 60.446025 (0.014191)\n",
      "KNN: 54.037126 (0.042226)\n",
      "CART: 60.446025 (0.014191)\n",
      "NB: 15.494949 (0.090380)\n",
      "SVM: 60.552324 (0.014468)\n"
     ]
    }
   ],
   "source": [
    "# Test options and evaluation metric\n",
    "num_folds = 10\n",
    "num_instances = len(X_train)\n",
    "seed = 7\n",
    "scoring = 'accuracy'\n",
    "models=[]\n",
    "models.append(('LR',LogisticRegression()))\n",
    "models.append(('DTree', DecisionTreeClassifier()))\n",
    "#models.append(('LDA',LinearDiscriminaantAnalysis()))\n",
    "models.append(('KNN',KNeighborsClassifier()))\n",
    "models.append(('CART',DecisionTreeClassifier()))\n",
    "models.append(('NB',GaussianNB()))\n",
    "models.append(('SVM',SVC()))\n",
    "#Evaluate each model\n",
    "results=[]\n",
    "names=[]\n",
    "for name, model in models:\n",
    "    kfold = cross_validation.KFold(n=num_instances, n_folds=num_folds, random_state=seed)\n",
    "    cv_results = cross_validation.cross_val_score(model, X_train, Y_train, cv=kfold, scoring=scoring)\n",
    "    results.append(cv_results)\n",
    "    names.append(name)\n",
    "    msg = \"%s: %f (%f)\" % (name, cv_results.mean()*100, cv_results.std())\n",
    "    print(msg)\n",
    "    # Compare Algorithms"
   ]
  },
  {
   "cell_type": "code",
   "execution_count": 39,
   "metadata": {
    "collapsed": false
   },
   "outputs": [
    {
     "data": {
      "image/png": "[encoded data removed]",
      "text/plain": [
       "<matplotlib.figure.Figure at 0x2229db38>"
      ]
     },
     "metadata": {},
     "output_type": "display_data"
    }
   ],
   "source": [
    "fig = plt.figure()\n",
    "fig.suptitle('Week-1 to predict Final Grade')\n",
    "ax = fig.add_subplot(111)\n",
    "plt.boxplot(results)\n",
    "plt.ylabel(\"F1-Score\")\n",
    "plt.xlabel(\"Classifiers\")\n",
    "ax.set_xticklabels(names)\n",
    "plt.show()"
   ]
  },
  {
   "cell_type": "code",
   "execution_count": 40,
   "metadata": {
    "collapsed": false
   },
   "outputs": [
    {
     "name": "stdout",
     "output_type": "stream",
     "text": [
      "Decision Tree\n",
      "0.594428706327\n",
      "[[   3    1  273]\n",
      " [   3    0  581]\n",
      " [   0    1 1256]]\n",
      "             precision    recall  f1-score   support\n",
      "\n",
      "AboveAvgEngaged       0.50      0.01      0.02       277\n",
      "AverageEngaged       0.00      0.00      0.00       584\n",
      "BelowAverage       0.60      1.00      0.75      1257\n",
      "\n",
      "avg / total       0.42      0.59      0.45      2118\n",
      "\n"
     ]
    }
   ],
   "source": [
    "# Make predictions on validation dataset\n",
    "# -*- coding: utf-8 -*-\n",
    "print(\"Decision Tree\")\n",
    "LR = DecisionTreeClassifier()\n",
    "LR.fit(X_train, Y_train)\n",
    "predictions = LR.predict(X_test)\n",
    "print(accuracy_score(y_test, predictions))\n",
    "print(confusion_matrix(y_test, predictions))\n",
    "print(classification_report(y_test, predictions))\n",
    "\n"
   ]
  },
  {
   "cell_type": "code",
   "execution_count": 41,
   "metadata": {
    "collapsed": false
   },
   "outputs": [
    {
     "name": "stdout",
     "output_type": "stream",
     "text": [
      "GaussianNB\n",
      "0.132672332389\n",
      "[[ 277    0    0]\n",
      " [ 584    0    0]\n",
      " [1252    1    4]]\n",
      "             precision    recall  f1-score   support\n",
      "\n",
      "AboveAvgEngaged       0.13      1.00      0.23       277\n",
      "AverageEngaged       0.00      0.00      0.00       584\n",
      "BelowAverage       1.00      0.00      0.01      1257\n",
      "\n",
      "avg / total       0.61      0.13      0.03      2118\n",
      "\n"
     ]
    }
   ],
   "source": [
    "print(\"GaussianNB\")\n",
    "LR = GaussianNB()\n",
    "LR.fit(X_train, Y_train)\n",
    "predictions = LR.predict(X_test)\n",
    "print(accuracy_score(y_test, predictions))\n",
    "print(confusion_matrix(y_test, predictions))\n",
    "print(classification_report(y_test, predictions))\n"
   ]
  },
  {
   "cell_type": "code",
   "execution_count": 42,
   "metadata": {
    "collapsed": false
   },
   "outputs": [
    {
     "name": "stdout",
     "output_type": "stream",
     "text": [
      "KNeighbors\n",
      "0.423984891407\n",
      "[[261   5  11]\n",
      " [517   5  62]\n",
      " [625   0 632]]\n",
      "             precision    recall  f1-score   support\n",
      "\n",
      "AboveAvgEngaged       0.19      0.94      0.31       277\n",
      "AverageEngaged       0.50      0.01      0.02       584\n",
      "BelowAverage       0.90      0.50      0.64      1257\n",
      "\n",
      "avg / total       0.69      0.42      0.43      2118\n",
      "\n"
     ]
    }
   ],
   "source": [
    "print(\"KNeighbors\")\n",
    "LR = KNeighborsClassifier()\n",
    "LR.fit(X_train, Y_train)\n",
    "predictions = LR.predict(X_test)\n",
    "print(accuracy_score(y_test, predictions))\n",
    "print(confusion_matrix(y_test, predictions))\n",
    "print(classification_report(y_test, predictions))\n"
   ]
  },
  {
   "cell_type": "code",
   "execution_count": 43,
   "metadata": {
    "collapsed": false
   },
   "outputs": [
    {
     "name": "stdout",
     "output_type": "stream",
     "text": [
      "LogisticRegression\n",
      "0.593484419263\n",
      "[[   0    0  277]\n",
      " [   0    0  584]\n",
      " [   0    0 1257]]\n",
      "             precision    recall  f1-score   support\n",
      "\n",
      "AboveAvgEngaged       0.00      0.00      0.00       277\n",
      "AverageEngaged       0.00      0.00      0.00       584\n",
      "BelowAverage       0.59      1.00      0.74      1257\n",
      "\n",
      "avg / total       0.35      0.59      0.44      2118\n",
      "\n"
     ]
    }
   ],
   "source": [
    "print(\"LogisticRegression\")\n",
    "LR = LogisticRegression()\n",
    "LR.fit(X_train, Y_train)\n",
    "predictions = LR.predict(X_test)\n",
    "print(accuracy_score(y_test, predictions))\n",
    "print(confusion_matrix(y_test, predictions))\n",
    "print(classification_report(y_test, predictions))\n"
   ]
  },
  {
   "cell_type": "code",
   "execution_count": 44,
   "metadata": {
    "collapsed": false
   },
   "outputs": [
    {
     "name": "stdout",
     "output_type": "stream",
     "text": [
      "Support Vector Machine\n",
      "0.593484419263\n",
      "[[   0    0  277]\n",
      " [   0    0  584]\n",
      " [   0    0 1257]]\n",
      "             precision    recall  f1-score   support\n",
      "\n",
      "AboveAvgEngaged       0.00      0.00      0.00       277\n",
      "AverageEngaged       0.00      0.00      0.00       584\n",
      "BelowAverage       0.59      1.00      0.74      1257\n",
      "\n",
      "avg / total       0.35      0.59      0.44      2118\n",
      "\n"
     ]
    }
   ],
   "source": [
    "print(\"Support Vector Machine\")\n",
    "LR = SVC()\n",
    "LR.fit(X_train, Y_train)\n",
    "predictions = LR.predict(X_test)\n",
    "print(accuracy_score(y_test, predictions))\n",
    "print(confusion_matrix(y_test, predictions))\n",
    "print(classification_report(y_test, predictions))\n"
   ]
  },
  {
   "cell_type": "code",
   "execution_count": null,
   "metadata": {
    "collapsed": true
   },
   "outputs": [],
   "source": []
  }
 ],
 "metadata": {
  "kernelspec": {
   "display_name": "Python 2",
   "language": "python",
   "name": "python2"
  },
  "language_info": {
   "codemirror_mode": {
    "name": "ipython",
    "version": 2
   },
   "file_extension": ".py",
   "mimetype": "text/x-python",
   "name": "python",
   "nbconvert_exporter": "python",
   "pygments_lexer": "ipython2",
   "version": "2.7.10"
  }
 },
 "nbformat": 4,
 "nbformat_minor": 0
}
