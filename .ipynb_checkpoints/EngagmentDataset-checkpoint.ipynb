{
 "cells": [
  {
   "cell_type": "code",
   "execution_count": 34,
   "metadata": {
    "collapsed": false
   },
   "outputs": [],
   "source": [
    "import pandas as pd\n",
    "from pandas.tools.plotting import scatter_matrix\n",
    "from sklearn import metrics\n",
    "import matplotlib.pyplot as plt\n",
    "from sklearn import cross_validation\n",
    "from sklearn.metrics import classification_report\n",
    "from sklearn.metrics import confusion_matrix\n",
    "from sklearn.metrics import accuracy_score\n",
    "from sklearn.linear_model import LogisticRegression\n",
    "from sklearn.tree import DecisionTreeClassifier\n",
    "from sklearn.neighbors import KNeighborsClassifier\n",
    "#from sklearn.discriminant_analysis import LinearDiscriminantAnalysis\n",
    "from sklearn.naive_bayes import GaussianNB\n",
    "from sklearn.svm import SVC\n",
    "from sklearn.preprocessing import Normalizer\n",
    "from sklearn.preprocessing import StandardScaler\n",
    "from sklearn.preprocessing import MinMaxScaler\n",
    "from sklearn.datasets import make_classification\n",
    "from sklearn.cross_validation import cross_val_predict\n",
    "from sklearn.calibration import CalibratedClassifierCV\n",
    "from sklearn.metrics import (brier_score_loss, precision_score, recall_score,f1_score)\n",
    "import matplotlib.pyplot as plt\n",
    "import pandas as pd\n",
    "import numpy as np\n",
    "import seaborn as sns\n",
    "from pylab import rcParams\n",
    "import os\n",
    "# plot feature importance using built-in function\n",
    "from numpy import loadtxt\n",
    "from matplotlib import pyplot\n",
    "%matplotlib inline"
   ]
  },
  {
   "cell_type": "code",
   "execution_count": 35,
   "metadata": {
    "collapsed": false
   },
   "outputs": [],
   "source": [
    "os.chdir(\"C://Users//rumer//Desktop//APRIL20\")"
   ]
  },
  {
   "cell_type": "code",
   "execution_count": 41,
   "metadata": {
    "collapsed": false
   },
   "outputs": [],
   "source": [
    "df=pd.read_csv(\"Eng.csv\")\n",
    "dg=pd.read_csv(\"FinalScore.csv\")\n",
    "dh=pd.read_csv(\"C://Users//rumer//Desktop//8May2017//EngClass.csv\")"
   ]
  },
  {
   "cell_type": "code",
   "execution_count": 42,
   "metadata": {
    "collapsed": false
   },
   "outputs": [
    {
     "data": {
      "text/html": [
       "<div>\n",
       "<table border=\"1\" class=\"dataframe\">\n",
       "  <thead>\n",
       "    <tr style=\"text-align: right;\">\n",
       "      <th></th>\n",
       "      <th>anon_screen_name</th>\n",
       "      <th>Class</th>\n",
       "      <th>EngStatus</th>\n",
       "    </tr>\n",
       "  </thead>\n",
       "  <tbody>\n",
       "    <tr>\n",
       "      <th>10585</th>\n",
       "      <td>fdf42a806838d5fd65ca53f6001bfce128f2cfdf</td>\n",
       "      <td>NotEngaged</td>\n",
       "      <td>Time&lt;10Mins</td>\n",
       "    </tr>\n",
       "    <tr>\n",
       "      <th>10586</th>\n",
       "      <td>fe2efe3deac56a800539b58a6c1590a61dfb1aad</td>\n",
       "      <td>NotEngaged</td>\n",
       "      <td>Time&lt;10Mins</td>\n",
       "    </tr>\n",
       "    <tr>\n",
       "      <th>10587</th>\n",
       "      <td>fec738eb1c679f09e30048fd599908d8bfff4ffa</td>\n",
       "      <td>NotEngaged</td>\n",
       "      <td>Time&lt;10Mins</td>\n",
       "    </tr>\n",
       "    <tr>\n",
       "      <th>10588</th>\n",
       "      <td>fedd1a4b61388b1ce5d32bf9944e90ce5ee76ff8</td>\n",
       "      <td>NotEngaged</td>\n",
       "      <td>Time&lt;10Mins</td>\n",
       "    </tr>\n",
       "    <tr>\n",
       "      <th>10589</th>\n",
       "      <td>ff302cd72d63fb06ca93595b8e5a0e77450d7811</td>\n",
       "      <td>NotEngaged</td>\n",
       "      <td>Time&lt;10Mins</td>\n",
       "    </tr>\n",
       "  </tbody>\n",
       "</table>\n",
       "</div>"
      ],
      "text/plain": [
       "                               anon_screen_name       Class    EngStatus\n",
       "10585  fdf42a806838d5fd65ca53f6001bfce128f2cfdf  NotEngaged  Time<10Mins\n",
       "10586  fe2efe3deac56a800539b58a6c1590a61dfb1aad  NotEngaged  Time<10Mins\n",
       "10587  fec738eb1c679f09e30048fd599908d8bfff4ffa  NotEngaged  Time<10Mins\n",
       "10588  fedd1a4b61388b1ce5d32bf9944e90ce5ee76ff8  NotEngaged  Time<10Mins\n",
       "10589  ff302cd72d63fb06ca93595b8e5a0e77450d7811  NotEngaged  Time<10Mins"
      ]
     },
     "execution_count": 42,
     "metadata": {},
     "output_type": "execute_result"
    }
   ],
   "source": [
    "dh.tail()"
   ]
  },
  {
   "cell_type": "code",
   "execution_count": 45,
   "metadata": {
    "collapsed": false
   },
   "outputs": [
    {
     "data": {
      "text/html": [
       "<div>\n",
       "<table border=\"1\" class=\"dataframe\">\n",
       "  <thead>\n",
       "    <tr style=\"text-align: right;\">\n",
       "      <th></th>\n",
       "      <th>anon_screen_name</th>\n",
       "      <th>Week-1</th>\n",
       "      <th>Week-2</th>\n",
       "      <th>Week-3</th>\n",
       "      <th>Week-4</th>\n",
       "      <th>Week-5</th>\n",
       "      <th>Week-6</th>\n",
       "      <th>Week-7</th>\n",
       "      <th>Week-8</th>\n",
       "      <th>Average</th>\n",
       "    </tr>\n",
       "  </thead>\n",
       "  <tbody>\n",
       "    <tr>\n",
       "      <th>0</th>\n",
       "      <td>1e7ef19f7d2b16cf71044c8064268b5bfd798d16</td>\n",
       "      <td>23228</td>\n",
       "      <td>11818</td>\n",
       "      <td>39958</td>\n",
       "      <td>47862</td>\n",
       "      <td>57961</td>\n",
       "      <td>107289</td>\n",
       "      <td>124361</td>\n",
       "      <td>42704</td>\n",
       "      <td>56897.625</td>\n",
       "    </tr>\n",
       "    <tr>\n",
       "      <th>1</th>\n",
       "      <td>d5fd321e713188cffd5cb88dd741644877536e37</td>\n",
       "      <td>64977</td>\n",
       "      <td>60287</td>\n",
       "      <td>46715</td>\n",
       "      <td>69944</td>\n",
       "      <td>48767</td>\n",
       "      <td>40968</td>\n",
       "      <td>41833</td>\n",
       "      <td>49330</td>\n",
       "      <td>52852.625</td>\n",
       "    </tr>\n",
       "    <tr>\n",
       "      <th>2</th>\n",
       "      <td>ae8ff88b09212191ade4b9573d4eaba7d01c03a5</td>\n",
       "      <td>25996</td>\n",
       "      <td>58040</td>\n",
       "      <td>72521</td>\n",
       "      <td>82785</td>\n",
       "      <td>74286</td>\n",
       "      <td>16811</td>\n",
       "      <td>35532</td>\n",
       "      <td>47686</td>\n",
       "      <td>51707.125</td>\n",
       "    </tr>\n",
       "    <tr>\n",
       "      <th>3</th>\n",
       "      <td>8b7b150270f1989f51973ab13a5fab65ea9c4ad8</td>\n",
       "      <td>36281</td>\n",
       "      <td>27538</td>\n",
       "      <td>65544</td>\n",
       "      <td>74339</td>\n",
       "      <td>41865</td>\n",
       "      <td>74256</td>\n",
       "      <td>44365</td>\n",
       "      <td>43441</td>\n",
       "      <td>50953.625</td>\n",
       "    </tr>\n",
       "    <tr>\n",
       "      <th>4</th>\n",
       "      <td>27950f57718267a62f888eb3bd94b2b5e402e931</td>\n",
       "      <td>8733</td>\n",
       "      <td>31443</td>\n",
       "      <td>36985</td>\n",
       "      <td>21970</td>\n",
       "      <td>69419</td>\n",
       "      <td>83628</td>\n",
       "      <td>68442</td>\n",
       "      <td>45822</td>\n",
       "      <td>45805.250</td>\n",
       "    </tr>\n",
       "  </tbody>\n",
       "</table>\n",
       "</div>"
      ],
      "text/plain": [
       "                           anon_screen_name  Week-1  Week-2  Week-3  Week-4  \\\n",
       "0  1e7ef19f7d2b16cf71044c8064268b5bfd798d16   23228   11818   39958   47862   \n",
       "1  d5fd321e713188cffd5cb88dd741644877536e37   64977   60287   46715   69944   \n",
       "2  ae8ff88b09212191ade4b9573d4eaba7d01c03a5   25996   58040   72521   82785   \n",
       "3  8b7b150270f1989f51973ab13a5fab65ea9c4ad8   36281   27538   65544   74339   \n",
       "4  27950f57718267a62f888eb3bd94b2b5e402e931    8733   31443   36985   21970   \n",
       "\n",
       "   Week-5  Week-6  Week-7  Week-8    Average  \n",
       "0   57961  107289  124361   42704  56897.625  \n",
       "1   48767   40968   41833   49330  52852.625  \n",
       "2   74286   16811   35532   47686  51707.125  \n",
       "3   41865   74256   44365   43441  50953.625  \n",
       "4   69419   83628   68442   45822  45805.250  "
      ]
     },
     "execution_count": 45,
     "metadata": {},
     "output_type": "execute_result"
    }
   ],
   "source": [
    "df.head()"
   ]
  },
  {
   "cell_type": "markdown",
   "metadata": {},
   "source": [
    "# Week 1"
   ]
  },
  {
   "cell_type": "code",
   "execution_count": 46,
   "metadata": {
    "collapsed": true
   },
   "outputs": [],
   "source": [
    "w1=df[['anon_screen_name','Week-1']]"
   ]
  },
  {
   "cell_type": "code",
   "execution_count": 48,
   "metadata": {
    "collapsed": false
   },
   "outputs": [
    {
     "name": "stderr",
     "output_type": "stream",
     "text": [
      "C:\\Users\\rumer\\Downloads\\WinPython-64bit-2.7.10.3\\python-2.7.10.amd64\\lib\\site-packages\\ipykernel\\__main__.py:7: SettingWithCopyWarning: \n",
      "A value is trying to be set on a copy of a slice from a DataFrame.\n",
      "Try using .loc[row_indexer,col_indexer] = value instead\n",
      "\n",
      "See the caveats in the documentation: http://pandas.pydata.org/pandas-docs/stable/indexing.html#indexing-view-versus-copy\n"
     ]
    }
   ],
   "source": [
    "def eng(row):\n",
    "    if row['Week-1']>=600:\n",
    "        value='Engaged'\n",
    "    else:\n",
    "        value='NotEngaged'\n",
    "    return value\n",
    "w1['Week-1']=w1.apply(eng, axis=1)"
   ]
  },
  {
   "cell_type": "code",
   "execution_count": 63,
   "metadata": {
    "collapsed": false
   },
   "outputs": [
    {
     "ename": "TypeError",
     "evalue": "'numpy.int32' object is not callable",
     "output_type": "error",
     "traceback": [
      "\u001b[1;31m---------------------------------------------------------------------------\u001b[0m",
      "\u001b[1;31mTypeError\u001b[0m                                 Traceback (most recent call last)",
      "\u001b[1;32m<ipython-input-63-87326ff64322>\u001b[0m in \u001b[0;36m<module>\u001b[1;34m()\u001b[0m\n\u001b[0;32m      1\u001b[0m \u001b[0mb\u001b[0m\u001b[1;33m=\u001b[0m\u001b[0mpd\u001b[0m\u001b[1;33m.\u001b[0m\u001b[0mmerge\u001b[0m\u001b[1;33m(\u001b[0m\u001b[0mdh\u001b[0m\u001b[1;33m,\u001b[0m\u001b[0mw1\u001b[0m\u001b[1;33m,\u001b[0m\u001b[0mon\u001b[0m\u001b[1;33m=\u001b[0m\u001b[1;34m'anon_screen_name'\u001b[0m\u001b[1;33m)\u001b[0m\u001b[1;33m\u001b[0m\u001b[0m\n\u001b[1;32m----> 2\u001b[1;33m \u001b[0mb\u001b[0m\u001b[1;33m.\u001b[0m\u001b[0msize\u001b[0m\u001b[1;33m(\u001b[0m\u001b[1;33m)\u001b[0m\u001b[1;33m\u001b[0m\u001b[0m\n\u001b[0m",
      "\u001b[1;31mTypeError\u001b[0m: 'numpy.int32' object is not callable"
     ]
    }
   ],
   "source": [
    "b=pd.merge(dh,w1,on='anon_screen_name')\n",
    "b.size()"
   ]
  },
  {
   "cell_type": "code",
   "execution_count": 61,
   "metadata": {
    "collapsed": false
   },
   "outputs": [
    {
     "data": {
      "text/plain": [
       "True     7617\n",
       "False    2973\n",
       "Name: accuracy, dtype: int64"
      ]
     },
     "execution_count": 61,
     "metadata": {},
     "output_type": "execute_result"
    }
   ],
   "source": [
    "b['accuracy']=b['Class'] == b['Week-1']\n",
    "b['accuracy'].value_counts()"
   ]
  },
  {
   "cell_type": "markdown",
   "metadata": {},
   "source": [
    "# Week 2"
   ]
  },
  {
   "cell_type": "code",
   "execution_count": 64,
   "metadata": {
    "collapsed": false
   },
   "outputs": [
    {
     "name": "stderr",
     "output_type": "stream",
     "text": [
      "C:\\Users\\rumer\\Downloads\\WinPython-64bit-2.7.10.3\\python-2.7.10.amd64\\lib\\site-packages\\ipykernel\\__main__.py:2: SettingWithCopyWarning: \n",
      "A value is trying to be set on a copy of a slice from a DataFrame.\n",
      "Try using .loc[row_indexer,col_indexer] = value instead\n",
      "\n",
      "See the caveats in the documentation: http://pandas.pydata.org/pandas-docs/stable/indexing.html#indexing-view-versus-copy\n",
      "  from ipykernel import kernelapp as app\n"
     ]
    }
   ],
   "source": [
    "w2=df[['anon_screen_name','Week-1','Week-2']]\n",
    "w2['avg'] = w2[['Week-1','Week-2']].mean(axis=1)\n"
   ]
  },
  {
   "cell_type": "code",
   "execution_count": 67,
   "metadata": {
    "collapsed": false
   },
   "outputs": [
    {
     "name": "stderr",
     "output_type": "stream",
     "text": [
      "C:\\Users\\rumer\\Downloads\\WinPython-64bit-2.7.10.3\\python-2.7.10.amd64\\lib\\site-packages\\ipykernel\\__main__.py:7: SettingWithCopyWarning: \n",
      "A value is trying to be set on a copy of a slice from a DataFrame.\n",
      "Try using .loc[row_indexer,col_indexer] = value instead\n",
      "\n",
      "See the caveats in the documentation: http://pandas.pydata.org/pandas-docs/stable/indexing.html#indexing-view-versus-copy\n"
     ]
    }
   ],
   "source": [
    "def eng(row):\n",
    "    if row['avg']>=600:\n",
    "        value='Engaged'\n",
    "    else:\n",
    "        value='NotEngaged'\n",
    "    return value\n",
    "w2['avg']=w2.apply(eng, axis=1)"
   ]
  },
  {
   "cell_type": "code",
   "execution_count": 68,
   "metadata": {
    "collapsed": false
   },
   "outputs": [
    {
     "data": {
      "text/html": [
       "<div>\n",
       "<table border=\"1\" class=\"dataframe\">\n",
       "  <thead>\n",
       "    <tr style=\"text-align: right;\">\n",
       "      <th></th>\n",
       "      <th>anon_screen_name</th>\n",
       "      <th>Week-1</th>\n",
       "      <th>Week-2</th>\n",
       "      <th>avg</th>\n",
       "    </tr>\n",
       "  </thead>\n",
       "  <tbody>\n",
       "    <tr>\n",
       "      <th>0</th>\n",
       "      <td>1e7ef19f7d2b16cf71044c8064268b5bfd798d16</td>\n",
       "      <td>23228</td>\n",
       "      <td>11818</td>\n",
       "      <td>Engaged</td>\n",
       "    </tr>\n",
       "    <tr>\n",
       "      <th>1</th>\n",
       "      <td>d5fd321e713188cffd5cb88dd741644877536e37</td>\n",
       "      <td>64977</td>\n",
       "      <td>60287</td>\n",
       "      <td>Engaged</td>\n",
       "    </tr>\n",
       "    <tr>\n",
       "      <th>2</th>\n",
       "      <td>ae8ff88b09212191ade4b9573d4eaba7d01c03a5</td>\n",
       "      <td>25996</td>\n",
       "      <td>58040</td>\n",
       "      <td>Engaged</td>\n",
       "    </tr>\n",
       "    <tr>\n",
       "      <th>3</th>\n",
       "      <td>8b7b150270f1989f51973ab13a5fab65ea9c4ad8</td>\n",
       "      <td>36281</td>\n",
       "      <td>27538</td>\n",
       "      <td>Engaged</td>\n",
       "    </tr>\n",
       "    <tr>\n",
       "      <th>4</th>\n",
       "      <td>27950f57718267a62f888eb3bd94b2b5e402e931</td>\n",
       "      <td>8733</td>\n",
       "      <td>31443</td>\n",
       "      <td>Engaged</td>\n",
       "    </tr>\n",
       "  </tbody>\n",
       "</table>\n",
       "</div>"
      ],
      "text/plain": [
       "                           anon_screen_name  Week-1  Week-2      avg\n",
       "0  1e7ef19f7d2b16cf71044c8064268b5bfd798d16   23228   11818  Engaged\n",
       "1  d5fd321e713188cffd5cb88dd741644877536e37   64977   60287  Engaged\n",
       "2  ae8ff88b09212191ade4b9573d4eaba7d01c03a5   25996   58040  Engaged\n",
       "3  8b7b150270f1989f51973ab13a5fab65ea9c4ad8   36281   27538  Engaged\n",
       "4  27950f57718267a62f888eb3bd94b2b5e402e931    8733   31443  Engaged"
      ]
     },
     "execution_count": 68,
     "metadata": {},
     "output_type": "execute_result"
    }
   ],
   "source": [
    "w2.head()"
   ]
  },
  {
   "cell_type": "code",
   "execution_count": 70,
   "metadata": {
    "collapsed": false
   },
   "outputs": [
    {
     "data": {
      "text/html": [
       "<div>\n",
       "<table border=\"1\" class=\"dataframe\">\n",
       "  <thead>\n",
       "    <tr style=\"text-align: right;\">\n",
       "      <th></th>\n",
       "      <th>anon_screen_name</th>\n",
       "      <th>Class</th>\n",
       "      <th>EngStatus</th>\n",
       "      <th>Week-1</th>\n",
       "      <th>Week-2</th>\n",
       "      <th>avg</th>\n",
       "    </tr>\n",
       "  </thead>\n",
       "  <tbody>\n",
       "    <tr>\n",
       "      <th>0</th>\n",
       "      <td>1e7ef19f7d2b16cf71044c8064268b5bfd798d16</td>\n",
       "      <td>Engaged</td>\n",
       "      <td>Time &gt;=1 hour</td>\n",
       "      <td>23228</td>\n",
       "      <td>11818</td>\n",
       "      <td>Engaged</td>\n",
       "    </tr>\n",
       "    <tr>\n",
       "      <th>1</th>\n",
       "      <td>d5fd321e713188cffd5cb88dd741644877536e37</td>\n",
       "      <td>Engaged</td>\n",
       "      <td>Time &gt;=1 hour</td>\n",
       "      <td>64977</td>\n",
       "      <td>60287</td>\n",
       "      <td>Engaged</td>\n",
       "    </tr>\n",
       "    <tr>\n",
       "      <th>2</th>\n",
       "      <td>ae8ff88b09212191ade4b9573d4eaba7d01c03a5</td>\n",
       "      <td>Engaged</td>\n",
       "      <td>Time &gt;=1 hour</td>\n",
       "      <td>25996</td>\n",
       "      <td>58040</td>\n",
       "      <td>Engaged</td>\n",
       "    </tr>\n",
       "    <tr>\n",
       "      <th>3</th>\n",
       "      <td>8b7b150270f1989f51973ab13a5fab65ea9c4ad8</td>\n",
       "      <td>Engaged</td>\n",
       "      <td>Time &gt;=1 hour</td>\n",
       "      <td>36281</td>\n",
       "      <td>27538</td>\n",
       "      <td>Engaged</td>\n",
       "    </tr>\n",
       "    <tr>\n",
       "      <th>4</th>\n",
       "      <td>27950f57718267a62f888eb3bd94b2b5e402e931</td>\n",
       "      <td>Engaged</td>\n",
       "      <td>Time &gt;=1 hour</td>\n",
       "      <td>8733</td>\n",
       "      <td>31443</td>\n",
       "      <td>Engaged</td>\n",
       "    </tr>\n",
       "  </tbody>\n",
       "</table>\n",
       "</div>"
      ],
      "text/plain": [
       "                           anon_screen_name    Class      EngStatus  Week-1  \\\n",
       "0  1e7ef19f7d2b16cf71044c8064268b5bfd798d16  Engaged  Time >=1 hour   23228   \n",
       "1  d5fd321e713188cffd5cb88dd741644877536e37  Engaged  Time >=1 hour   64977   \n",
       "2  ae8ff88b09212191ade4b9573d4eaba7d01c03a5  Engaged  Time >=1 hour   25996   \n",
       "3  8b7b150270f1989f51973ab13a5fab65ea9c4ad8  Engaged  Time >=1 hour   36281   \n",
       "4  27950f57718267a62f888eb3bd94b2b5e402e931  Engaged  Time >=1 hour    8733   \n",
       "\n",
       "   Week-2      avg  \n",
       "0   11818  Engaged  \n",
       "1   60287  Engaged  \n",
       "2   58040  Engaged  \n",
       "3   27538  Engaged  \n",
       "4   31443  Engaged  "
      ]
     },
     "execution_count": 70,
     "metadata": {},
     "output_type": "execute_result"
    }
   ],
   "source": [
    "b2=pd.merge(dh,w2,on='anon_screen_name')\n",
    "b2.head()"
   ]
  },
  {
   "cell_type": "code",
   "execution_count": 71,
   "metadata": {
    "collapsed": false
   },
   "outputs": [
    {
     "data": {
      "text/plain": [
       "True     8240\n",
       "False    2350\n",
       "Name: accuracy, dtype: int64"
      ]
     },
     "execution_count": 71,
     "metadata": {},
     "output_type": "execute_result"
    }
   ],
   "source": [
    "b2['accuracy']=b2['Class'] == b2['avg']\n",
    "b2['accuracy'].value_counts()"
   ]
  },
  {
   "cell_type": "markdown",
   "metadata": {},
   "source": [
    "# Week 3"
   ]
  },
  {
   "cell_type": "code",
   "execution_count": 73,
   "metadata": {
    "collapsed": false
   },
   "outputs": [
    {
     "name": "stderr",
     "output_type": "stream",
     "text": [
      "C:\\Users\\rumer\\Downloads\\WinPython-64bit-2.7.10.3\\python-2.7.10.amd64\\lib\\site-packages\\ipykernel\\__main__.py:2: SettingWithCopyWarning: \n",
      "A value is trying to be set on a copy of a slice from a DataFrame.\n",
      "Try using .loc[row_indexer,col_indexer] = value instead\n",
      "\n",
      "See the caveats in the documentation: http://pandas.pydata.org/pandas-docs/stable/indexing.html#indexing-view-versus-copy\n",
      "  from ipykernel import kernelapp as app\n"
     ]
    }
   ],
   "source": [
    "w3=df[['anon_screen_name','Week-1','Week-2','Week-3']]\n",
    "w3['avg'] = w3[['Week-1','Week-2','Week-3']].mean(axis=1)"
   ]
  },
  {
   "cell_type": "code",
   "execution_count": 74,
   "metadata": {
    "collapsed": false
   },
   "outputs": [
    {
     "name": "stderr",
     "output_type": "stream",
     "text": [
      "C:\\Users\\rumer\\Downloads\\WinPython-64bit-2.7.10.3\\python-2.7.10.amd64\\lib\\site-packages\\ipykernel\\__main__.py:7: SettingWithCopyWarning: \n",
      "A value is trying to be set on a copy of a slice from a DataFrame.\n",
      "Try using .loc[row_indexer,col_indexer] = value instead\n",
      "\n",
      "See the caveats in the documentation: http://pandas.pydata.org/pandas-docs/stable/indexing.html#indexing-view-versus-copy\n"
     ]
    }
   ],
   "source": [
    "def eng(row):\n",
    "    if row['avg']>=600:\n",
    "        value='Engaged'\n",
    "    else:\n",
    "        value='NotEngaged'\n",
    "    return value\n",
    "w3['avg']=w3.apply(eng, axis=1)"
   ]
  },
  {
   "cell_type": "code",
   "execution_count": 75,
   "metadata": {
    "collapsed": false
   },
   "outputs": [
    {
     "data": {
      "text/html": [
       "<div>\n",
       "<table border=\"1\" class=\"dataframe\">\n",
       "  <thead>\n",
       "    <tr style=\"text-align: right;\">\n",
       "      <th></th>\n",
       "      <th>anon_screen_name</th>\n",
       "      <th>Week-1</th>\n",
       "      <th>Week-2</th>\n",
       "      <th>Week-3</th>\n",
       "      <th>avg</th>\n",
       "    </tr>\n",
       "  </thead>\n",
       "  <tbody>\n",
       "    <tr>\n",
       "      <th>0</th>\n",
       "      <td>1e7ef19f7d2b16cf71044c8064268b5bfd798d16</td>\n",
       "      <td>23228</td>\n",
       "      <td>11818</td>\n",
       "      <td>39958</td>\n",
       "      <td>Engaged</td>\n",
       "    </tr>\n",
       "    <tr>\n",
       "      <th>1</th>\n",
       "      <td>d5fd321e713188cffd5cb88dd741644877536e37</td>\n",
       "      <td>64977</td>\n",
       "      <td>60287</td>\n",
       "      <td>46715</td>\n",
       "      <td>Engaged</td>\n",
       "    </tr>\n",
       "    <tr>\n",
       "      <th>2</th>\n",
       "      <td>ae8ff88b09212191ade4b9573d4eaba7d01c03a5</td>\n",
       "      <td>25996</td>\n",
       "      <td>58040</td>\n",
       "      <td>72521</td>\n",
       "      <td>Engaged</td>\n",
       "    </tr>\n",
       "    <tr>\n",
       "      <th>3</th>\n",
       "      <td>8b7b150270f1989f51973ab13a5fab65ea9c4ad8</td>\n",
       "      <td>36281</td>\n",
       "      <td>27538</td>\n",
       "      <td>65544</td>\n",
       "      <td>Engaged</td>\n",
       "    </tr>\n",
       "    <tr>\n",
       "      <th>4</th>\n",
       "      <td>27950f57718267a62f888eb3bd94b2b5e402e931</td>\n",
       "      <td>8733</td>\n",
       "      <td>31443</td>\n",
       "      <td>36985</td>\n",
       "      <td>Engaged</td>\n",
       "    </tr>\n",
       "  </tbody>\n",
       "</table>\n",
       "</div>"
      ],
      "text/plain": [
       "                           anon_screen_name  Week-1  Week-2  Week-3      avg\n",
       "0  1e7ef19f7d2b16cf71044c8064268b5bfd798d16   23228   11818   39958  Engaged\n",
       "1  d5fd321e713188cffd5cb88dd741644877536e37   64977   60287   46715  Engaged\n",
       "2  ae8ff88b09212191ade4b9573d4eaba7d01c03a5   25996   58040   72521  Engaged\n",
       "3  8b7b150270f1989f51973ab13a5fab65ea9c4ad8   36281   27538   65544  Engaged\n",
       "4  27950f57718267a62f888eb3bd94b2b5e402e931    8733   31443   36985  Engaged"
      ]
     },
     "execution_count": 75,
     "metadata": {},
     "output_type": "execute_result"
    }
   ],
   "source": [
    "w3.head()"
   ]
  },
  {
   "cell_type": "code",
   "execution_count": 76,
   "metadata": {
    "collapsed": false
   },
   "outputs": [
    {
     "data": {
      "text/html": [
       "<div>\n",
       "<table border=\"1\" class=\"dataframe\">\n",
       "  <thead>\n",
       "    <tr style=\"text-align: right;\">\n",
       "      <th></th>\n",
       "      <th>anon_screen_name</th>\n",
       "      <th>Class</th>\n",
       "      <th>EngStatus</th>\n",
       "      <th>Week-1</th>\n",
       "      <th>Week-2</th>\n",
       "      <th>Week-3</th>\n",
       "      <th>avg</th>\n",
       "    </tr>\n",
       "  </thead>\n",
       "  <tbody>\n",
       "    <tr>\n",
       "      <th>0</th>\n",
       "      <td>1e7ef19f7d2b16cf71044c8064268b5bfd798d16</td>\n",
       "      <td>Engaged</td>\n",
       "      <td>Time &gt;=1 hour</td>\n",
       "      <td>23228</td>\n",
       "      <td>11818</td>\n",
       "      <td>39958</td>\n",
       "      <td>Engaged</td>\n",
       "    </tr>\n",
       "    <tr>\n",
       "      <th>1</th>\n",
       "      <td>d5fd321e713188cffd5cb88dd741644877536e37</td>\n",
       "      <td>Engaged</td>\n",
       "      <td>Time &gt;=1 hour</td>\n",
       "      <td>64977</td>\n",
       "      <td>60287</td>\n",
       "      <td>46715</td>\n",
       "      <td>Engaged</td>\n",
       "    </tr>\n",
       "    <tr>\n",
       "      <th>2</th>\n",
       "      <td>ae8ff88b09212191ade4b9573d4eaba7d01c03a5</td>\n",
       "      <td>Engaged</td>\n",
       "      <td>Time &gt;=1 hour</td>\n",
       "      <td>25996</td>\n",
       "      <td>58040</td>\n",
       "      <td>72521</td>\n",
       "      <td>Engaged</td>\n",
       "    </tr>\n",
       "    <tr>\n",
       "      <th>3</th>\n",
       "      <td>8b7b150270f1989f51973ab13a5fab65ea9c4ad8</td>\n",
       "      <td>Engaged</td>\n",
       "      <td>Time &gt;=1 hour</td>\n",
       "      <td>36281</td>\n",
       "      <td>27538</td>\n",
       "      <td>65544</td>\n",
       "      <td>Engaged</td>\n",
       "    </tr>\n",
       "    <tr>\n",
       "      <th>4</th>\n",
       "      <td>27950f57718267a62f888eb3bd94b2b5e402e931</td>\n",
       "      <td>Engaged</td>\n",
       "      <td>Time &gt;=1 hour</td>\n",
       "      <td>8733</td>\n",
       "      <td>31443</td>\n",
       "      <td>36985</td>\n",
       "      <td>Engaged</td>\n",
       "    </tr>\n",
       "  </tbody>\n",
       "</table>\n",
       "</div>"
      ],
      "text/plain": [
       "                           anon_screen_name    Class      EngStatus  Week-1  \\\n",
       "0  1e7ef19f7d2b16cf71044c8064268b5bfd798d16  Engaged  Time >=1 hour   23228   \n",
       "1  d5fd321e713188cffd5cb88dd741644877536e37  Engaged  Time >=1 hour   64977   \n",
       "2  ae8ff88b09212191ade4b9573d4eaba7d01c03a5  Engaged  Time >=1 hour   25996   \n",
       "3  8b7b150270f1989f51973ab13a5fab65ea9c4ad8  Engaged  Time >=1 hour   36281   \n",
       "4  27950f57718267a62f888eb3bd94b2b5e402e931  Engaged  Time >=1 hour    8733   \n",
       "\n",
       "   Week-2  Week-3      avg  \n",
       "0   11818   39958  Engaged  \n",
       "1   60287   46715  Engaged  \n",
       "2   58040   72521  Engaged  \n",
       "3   27538   65544  Engaged  \n",
       "4   31443   36985  Engaged  "
      ]
     },
     "execution_count": 76,
     "metadata": {},
     "output_type": "execute_result"
    }
   ],
   "source": [
    "b3=pd.merge(dh,w3,on='anon_screen_name')\n",
    "b3.head()"
   ]
  },
  {
   "cell_type": "code",
   "execution_count": 77,
   "metadata": {
    "collapsed": false
   },
   "outputs": [
    {
     "data": {
      "text/plain": [
       "True     8719\n",
       "False    1871\n",
       "Name: accuracy, dtype: int64"
      ]
     },
     "execution_count": 77,
     "metadata": {},
     "output_type": "execute_result"
    }
   ],
   "source": [
    "b3['accuracy']=b3['Class'] == b3['avg']\n",
    "b3['accuracy'].value_counts()"
   ]
  },
  {
   "cell_type": "markdown",
   "metadata": {},
   "source": [
    "# Week 4"
   ]
  },
  {
   "cell_type": "code",
   "execution_count": 78,
   "metadata": {
    "collapsed": false
   },
   "outputs": [
    {
     "name": "stderr",
     "output_type": "stream",
     "text": [
      "C:\\Users\\rumer\\Downloads\\WinPython-64bit-2.7.10.3\\python-2.7.10.amd64\\lib\\site-packages\\ipykernel\\__main__.py:2: SettingWithCopyWarning: \n",
      "A value is trying to be set on a copy of a slice from a DataFrame.\n",
      "Try using .loc[row_indexer,col_indexer] = value instead\n",
      "\n",
      "See the caveats in the documentation: http://pandas.pydata.org/pandas-docs/stable/indexing.html#indexing-view-versus-copy\n",
      "  from ipykernel import kernelapp as app\n"
     ]
    }
   ],
   "source": [
    "w4=df[['anon_screen_name','Week-1','Week-2','Week-3','Week-4']]\n",
    "w4['avg'] = w4[['Week-1','Week-2','Week-3','Week-4']].mean(axis=1)"
   ]
  },
  {
   "cell_type": "code",
   "execution_count": 79,
   "metadata": {
    "collapsed": false
   },
   "outputs": [
    {
     "name": "stderr",
     "output_type": "stream",
     "text": [
      "C:\\Users\\rumer\\Downloads\\WinPython-64bit-2.7.10.3\\python-2.7.10.amd64\\lib\\site-packages\\ipykernel\\__main__.py:7: SettingWithCopyWarning: \n",
      "A value is trying to be set on a copy of a slice from a DataFrame.\n",
      "Try using .loc[row_indexer,col_indexer] = value instead\n",
      "\n",
      "See the caveats in the documentation: http://pandas.pydata.org/pandas-docs/stable/indexing.html#indexing-view-versus-copy\n"
     ]
    }
   ],
   "source": [
    "def eng(row):\n",
    "    if row['avg']>=600:\n",
    "        value='Engaged'\n",
    "    else:\n",
    "        value='NotEngaged'\n",
    "    return value\n",
    "w4['avg']=w4.apply(eng, axis=1)"
   ]
  },
  {
   "cell_type": "code",
   "execution_count": 80,
   "metadata": {
    "collapsed": false
   },
   "outputs": [
    {
     "data": {
      "text/html": [
       "<div>\n",
       "<table border=\"1\" class=\"dataframe\">\n",
       "  <thead>\n",
       "    <tr style=\"text-align: right;\">\n",
       "      <th></th>\n",
       "      <th>anon_screen_name</th>\n",
       "      <th>Class</th>\n",
       "      <th>EngStatus</th>\n",
       "      <th>Week-1</th>\n",
       "      <th>Week-2</th>\n",
       "      <th>Week-3</th>\n",
       "      <th>Week-4</th>\n",
       "      <th>avg</th>\n",
       "    </tr>\n",
       "  </thead>\n",
       "  <tbody>\n",
       "    <tr>\n",
       "      <th>0</th>\n",
       "      <td>1e7ef19f7d2b16cf71044c8064268b5bfd798d16</td>\n",
       "      <td>Engaged</td>\n",
       "      <td>Time &gt;=1 hour</td>\n",
       "      <td>23228</td>\n",
       "      <td>11818</td>\n",
       "      <td>39958</td>\n",
       "      <td>47862</td>\n",
       "      <td>Engaged</td>\n",
       "    </tr>\n",
       "    <tr>\n",
       "      <th>1</th>\n",
       "      <td>d5fd321e713188cffd5cb88dd741644877536e37</td>\n",
       "      <td>Engaged</td>\n",
       "      <td>Time &gt;=1 hour</td>\n",
       "      <td>64977</td>\n",
       "      <td>60287</td>\n",
       "      <td>46715</td>\n",
       "      <td>69944</td>\n",
       "      <td>Engaged</td>\n",
       "    </tr>\n",
       "    <tr>\n",
       "      <th>2</th>\n",
       "      <td>ae8ff88b09212191ade4b9573d4eaba7d01c03a5</td>\n",
       "      <td>Engaged</td>\n",
       "      <td>Time &gt;=1 hour</td>\n",
       "      <td>25996</td>\n",
       "      <td>58040</td>\n",
       "      <td>72521</td>\n",
       "      <td>82785</td>\n",
       "      <td>Engaged</td>\n",
       "    </tr>\n",
       "    <tr>\n",
       "      <th>3</th>\n",
       "      <td>8b7b150270f1989f51973ab13a5fab65ea9c4ad8</td>\n",
       "      <td>Engaged</td>\n",
       "      <td>Time &gt;=1 hour</td>\n",
       "      <td>36281</td>\n",
       "      <td>27538</td>\n",
       "      <td>65544</td>\n",
       "      <td>74339</td>\n",
       "      <td>Engaged</td>\n",
       "    </tr>\n",
       "    <tr>\n",
       "      <th>4</th>\n",
       "      <td>27950f57718267a62f888eb3bd94b2b5e402e931</td>\n",
       "      <td>Engaged</td>\n",
       "      <td>Time &gt;=1 hour</td>\n",
       "      <td>8733</td>\n",
       "      <td>31443</td>\n",
       "      <td>36985</td>\n",
       "      <td>21970</td>\n",
       "      <td>Engaged</td>\n",
       "    </tr>\n",
       "  </tbody>\n",
       "</table>\n",
       "</div>"
      ],
      "text/plain": [
       "                           anon_screen_name    Class      EngStatus  Week-1  \\\n",
       "0  1e7ef19f7d2b16cf71044c8064268b5bfd798d16  Engaged  Time >=1 hour   23228   \n",
       "1  d5fd321e713188cffd5cb88dd741644877536e37  Engaged  Time >=1 hour   64977   \n",
       "2  ae8ff88b09212191ade4b9573d4eaba7d01c03a5  Engaged  Time >=1 hour   25996   \n",
       "3  8b7b150270f1989f51973ab13a5fab65ea9c4ad8  Engaged  Time >=1 hour   36281   \n",
       "4  27950f57718267a62f888eb3bd94b2b5e402e931  Engaged  Time >=1 hour    8733   \n",
       "\n",
       "   Week-2  Week-3  Week-4      avg  \n",
       "0   11818   39958   47862  Engaged  \n",
       "1   60287   46715   69944  Engaged  \n",
       "2   58040   72521   82785  Engaged  \n",
       "3   27538   65544   74339  Engaged  \n",
       "4   31443   36985   21970  Engaged  "
      ]
     },
     "execution_count": 80,
     "metadata": {},
     "output_type": "execute_result"
    }
   ],
   "source": [
    "b4=pd.merge(dh,w4,on='anon_screen_name')\n",
    "b4.head()"
   ]
  },
  {
   "cell_type": "code",
   "execution_count": 81,
   "metadata": {
    "collapsed": false
   },
   "outputs": [
    {
     "data": {
      "text/plain": [
       "True     9150\n",
       "False    1440\n",
       "Name: accuracy, dtype: int64"
      ]
     },
     "execution_count": 81,
     "metadata": {},
     "output_type": "execute_result"
    }
   ],
   "source": [
    "b4['accuracy']=b4['Class'] == b4['avg']\n",
    "b4['accuracy'].value_counts()"
   ]
  },
  {
   "cell_type": "markdown",
   "metadata": {},
   "source": [
    "# Week 5"
   ]
  },
  {
   "cell_type": "code",
   "execution_count": 82,
   "metadata": {
    "collapsed": false
   },
   "outputs": [
    {
     "name": "stderr",
     "output_type": "stream",
     "text": [
      "C:\\Users\\rumer\\Downloads\\WinPython-64bit-2.7.10.3\\python-2.7.10.amd64\\lib\\site-packages\\ipykernel\\__main__.py:2: SettingWithCopyWarning: \n",
      "A value is trying to be set on a copy of a slice from a DataFrame.\n",
      "Try using .loc[row_indexer,col_indexer] = value instead\n",
      "\n",
      "See the caveats in the documentation: http://pandas.pydata.org/pandas-docs/stable/indexing.html#indexing-view-versus-copy\n",
      "  from ipykernel import kernelapp as app\n"
     ]
    }
   ],
   "source": [
    "w5=df[['anon_screen_name','Week-1','Week-2','Week-3','Week-4','Week-5']]\n",
    "w5['avg'] = w5[['Week-1','Week-2','Week-3','Week-4','Week-5']].mean(axis=1)"
   ]
  },
  {
   "cell_type": "code",
   "execution_count": 83,
   "metadata": {
    "collapsed": false
   },
   "outputs": [
    {
     "name": "stderr",
     "output_type": "stream",
     "text": [
      "C:\\Users\\rumer\\Downloads\\WinPython-64bit-2.7.10.3\\python-2.7.10.amd64\\lib\\site-packages\\ipykernel\\__main__.py:7: SettingWithCopyWarning: \n",
      "A value is trying to be set on a copy of a slice from a DataFrame.\n",
      "Try using .loc[row_indexer,col_indexer] = value instead\n",
      "\n",
      "See the caveats in the documentation: http://pandas.pydata.org/pandas-docs/stable/indexing.html#indexing-view-versus-copy\n"
     ]
    }
   ],
   "source": [
    "def eng(row):\n",
    "    if row['avg']>=600:\n",
    "        value='Engaged'\n",
    "    else:\n",
    "        value='NotEngaged'\n",
    "    return value\n",
    "w5['avg']=w5.apply(eng, axis=1)"
   ]
  },
  {
   "cell_type": "code",
   "execution_count": 84,
   "metadata": {
    "collapsed": false
   },
   "outputs": [
    {
     "data": {
      "text/html": [
       "<div>\n",
       "<table border=\"1\" class=\"dataframe\">\n",
       "  <thead>\n",
       "    <tr style=\"text-align: right;\">\n",
       "      <th></th>\n",
       "      <th>anon_screen_name</th>\n",
       "      <th>Class</th>\n",
       "      <th>EngStatus</th>\n",
       "      <th>Week-1</th>\n",
       "      <th>Week-2</th>\n",
       "      <th>Week-3</th>\n",
       "      <th>Week-4</th>\n",
       "      <th>Week-5</th>\n",
       "      <th>avg</th>\n",
       "    </tr>\n",
       "  </thead>\n",
       "  <tbody>\n",
       "    <tr>\n",
       "      <th>0</th>\n",
       "      <td>1e7ef19f7d2b16cf71044c8064268b5bfd798d16</td>\n",
       "      <td>Engaged</td>\n",
       "      <td>Time &gt;=1 hour</td>\n",
       "      <td>23228</td>\n",
       "      <td>11818</td>\n",
       "      <td>39958</td>\n",
       "      <td>47862</td>\n",
       "      <td>57961</td>\n",
       "      <td>Engaged</td>\n",
       "    </tr>\n",
       "    <tr>\n",
       "      <th>1</th>\n",
       "      <td>d5fd321e713188cffd5cb88dd741644877536e37</td>\n",
       "      <td>Engaged</td>\n",
       "      <td>Time &gt;=1 hour</td>\n",
       "      <td>64977</td>\n",
       "      <td>60287</td>\n",
       "      <td>46715</td>\n",
       "      <td>69944</td>\n",
       "      <td>48767</td>\n",
       "      <td>Engaged</td>\n",
       "    </tr>\n",
       "    <tr>\n",
       "      <th>2</th>\n",
       "      <td>ae8ff88b09212191ade4b9573d4eaba7d01c03a5</td>\n",
       "      <td>Engaged</td>\n",
       "      <td>Time &gt;=1 hour</td>\n",
       "      <td>25996</td>\n",
       "      <td>58040</td>\n",
       "      <td>72521</td>\n",
       "      <td>82785</td>\n",
       "      <td>74286</td>\n",
       "      <td>Engaged</td>\n",
       "    </tr>\n",
       "    <tr>\n",
       "      <th>3</th>\n",
       "      <td>8b7b150270f1989f51973ab13a5fab65ea9c4ad8</td>\n",
       "      <td>Engaged</td>\n",
       "      <td>Time &gt;=1 hour</td>\n",
       "      <td>36281</td>\n",
       "      <td>27538</td>\n",
       "      <td>65544</td>\n",
       "      <td>74339</td>\n",
       "      <td>41865</td>\n",
       "      <td>Engaged</td>\n",
       "    </tr>\n",
       "    <tr>\n",
       "      <th>4</th>\n",
       "      <td>27950f57718267a62f888eb3bd94b2b5e402e931</td>\n",
       "      <td>Engaged</td>\n",
       "      <td>Time &gt;=1 hour</td>\n",
       "      <td>8733</td>\n",
       "      <td>31443</td>\n",
       "      <td>36985</td>\n",
       "      <td>21970</td>\n",
       "      <td>69419</td>\n",
       "      <td>Engaged</td>\n",
       "    </tr>\n",
       "  </tbody>\n",
       "</table>\n",
       "</div>"
      ],
      "text/plain": [
       "                           anon_screen_name    Class      EngStatus  Week-1  \\\n",
       "0  1e7ef19f7d2b16cf71044c8064268b5bfd798d16  Engaged  Time >=1 hour   23228   \n",
       "1  d5fd321e713188cffd5cb88dd741644877536e37  Engaged  Time >=1 hour   64977   \n",
       "2  ae8ff88b09212191ade4b9573d4eaba7d01c03a5  Engaged  Time >=1 hour   25996   \n",
       "3  8b7b150270f1989f51973ab13a5fab65ea9c4ad8  Engaged  Time >=1 hour   36281   \n",
       "4  27950f57718267a62f888eb3bd94b2b5e402e931  Engaged  Time >=1 hour    8733   \n",
       "\n",
       "   Week-2  Week-3  Week-4  Week-5      avg  \n",
       "0   11818   39958   47862   57961  Engaged  \n",
       "1   60287   46715   69944   48767  Engaged  \n",
       "2   58040   72521   82785   74286  Engaged  \n",
       "3   27538   65544   74339   41865  Engaged  \n",
       "4   31443   36985   21970   69419  Engaged  "
      ]
     },
     "execution_count": 84,
     "metadata": {},
     "output_type": "execute_result"
    }
   ],
   "source": [
    "b5=pd.merge(dh,w5,on='anon_screen_name')\n",
    "b5.head()"
   ]
  },
  {
   "cell_type": "code",
   "execution_count": 85,
   "metadata": {
    "collapsed": false
   },
   "outputs": [
    {
     "data": {
      "text/plain": [
       "True     9635\n",
       "False     955\n",
       "Name: accuracy, dtype: int64"
      ]
     },
     "execution_count": 85,
     "metadata": {},
     "output_type": "execute_result"
    }
   ],
   "source": [
    "b5['accuracy']=b5['Class'] == b5['avg']\n",
    "b5['accuracy'].value_counts()"
   ]
  },
  {
   "cell_type": "markdown",
   "metadata": {},
   "source": [
    "# Week 6"
   ]
  },
  {
   "cell_type": "code",
   "execution_count": 86,
   "metadata": {
    "collapsed": false
   },
   "outputs": [
    {
     "name": "stderr",
     "output_type": "stream",
     "text": [
      "C:\\Users\\rumer\\Downloads\\WinPython-64bit-2.7.10.3\\python-2.7.10.amd64\\lib\\site-packages\\ipykernel\\__main__.py:2: SettingWithCopyWarning: \n",
      "A value is trying to be set on a copy of a slice from a DataFrame.\n",
      "Try using .loc[row_indexer,col_indexer] = value instead\n",
      "\n",
      "See the caveats in the documentation: http://pandas.pydata.org/pandas-docs/stable/indexing.html#indexing-view-versus-copy\n",
      "  from ipykernel import kernelapp as app\n"
     ]
    }
   ],
   "source": [
    "w6=df[['anon_screen_name','Week-1','Week-2','Week-3','Week-4','Week-5','Week-6']]\n",
    "w6['avg'] = w6[['Week-1','Week-2','Week-3','Week-4','Week-5','Week-6']].mean(axis=1)"
   ]
  },
  {
   "cell_type": "code",
   "execution_count": 87,
   "metadata": {
    "collapsed": false
   },
   "outputs": [
    {
     "name": "stderr",
     "output_type": "stream",
     "text": [
      "C:\\Users\\rumer\\Downloads\\WinPython-64bit-2.7.10.3\\python-2.7.10.amd64\\lib\\site-packages\\ipykernel\\__main__.py:7: SettingWithCopyWarning: \n",
      "A value is trying to be set on a copy of a slice from a DataFrame.\n",
      "Try using .loc[row_indexer,col_indexer] = value instead\n",
      "\n",
      "See the caveats in the documentation: http://pandas.pydata.org/pandas-docs/stable/indexing.html#indexing-view-versus-copy\n"
     ]
    }
   ],
   "source": [
    "def eng(row):\n",
    "    if row['avg']>=600:\n",
    "        value='Engaged'\n",
    "    else:\n",
    "        value='NotEngaged'\n",
    "    return value\n",
    "w6['avg']=w6.apply(eng, axis=1)"
   ]
  },
  {
   "cell_type": "code",
   "execution_count": 88,
   "metadata": {
    "collapsed": false
   },
   "outputs": [
    {
     "data": {
      "text/html": [
       "<div>\n",
       "<table border=\"1\" class=\"dataframe\">\n",
       "  <thead>\n",
       "    <tr style=\"text-align: right;\">\n",
       "      <th></th>\n",
       "      <th>anon_screen_name</th>\n",
       "      <th>Class</th>\n",
       "      <th>EngStatus</th>\n",
       "      <th>Week-1</th>\n",
       "      <th>Week-2</th>\n",
       "      <th>Week-3</th>\n",
       "      <th>Week-4</th>\n",
       "      <th>Week-5</th>\n",
       "      <th>Week-6</th>\n",
       "      <th>avg</th>\n",
       "    </tr>\n",
       "  </thead>\n",
       "  <tbody>\n",
       "    <tr>\n",
       "      <th>0</th>\n",
       "      <td>1e7ef19f7d2b16cf71044c8064268b5bfd798d16</td>\n",
       "      <td>Engaged</td>\n",
       "      <td>Time &gt;=1 hour</td>\n",
       "      <td>23228</td>\n",
       "      <td>11818</td>\n",
       "      <td>39958</td>\n",
       "      <td>47862</td>\n",
       "      <td>57961</td>\n",
       "      <td>107289</td>\n",
       "      <td>Engaged</td>\n",
       "    </tr>\n",
       "    <tr>\n",
       "      <th>1</th>\n",
       "      <td>d5fd321e713188cffd5cb88dd741644877536e37</td>\n",
       "      <td>Engaged</td>\n",
       "      <td>Time &gt;=1 hour</td>\n",
       "      <td>64977</td>\n",
       "      <td>60287</td>\n",
       "      <td>46715</td>\n",
       "      <td>69944</td>\n",
       "      <td>48767</td>\n",
       "      <td>40968</td>\n",
       "      <td>Engaged</td>\n",
       "    </tr>\n",
       "    <tr>\n",
       "      <th>2</th>\n",
       "      <td>ae8ff88b09212191ade4b9573d4eaba7d01c03a5</td>\n",
       "      <td>Engaged</td>\n",
       "      <td>Time &gt;=1 hour</td>\n",
       "      <td>25996</td>\n",
       "      <td>58040</td>\n",
       "      <td>72521</td>\n",
       "      <td>82785</td>\n",
       "      <td>74286</td>\n",
       "      <td>16811</td>\n",
       "      <td>Engaged</td>\n",
       "    </tr>\n",
       "    <tr>\n",
       "      <th>3</th>\n",
       "      <td>8b7b150270f1989f51973ab13a5fab65ea9c4ad8</td>\n",
       "      <td>Engaged</td>\n",
       "      <td>Time &gt;=1 hour</td>\n",
       "      <td>36281</td>\n",
       "      <td>27538</td>\n",
       "      <td>65544</td>\n",
       "      <td>74339</td>\n",
       "      <td>41865</td>\n",
       "      <td>74256</td>\n",
       "      <td>Engaged</td>\n",
       "    </tr>\n",
       "    <tr>\n",
       "      <th>4</th>\n",
       "      <td>27950f57718267a62f888eb3bd94b2b5e402e931</td>\n",
       "      <td>Engaged</td>\n",
       "      <td>Time &gt;=1 hour</td>\n",
       "      <td>8733</td>\n",
       "      <td>31443</td>\n",
       "      <td>36985</td>\n",
       "      <td>21970</td>\n",
       "      <td>69419</td>\n",
       "      <td>83628</td>\n",
       "      <td>Engaged</td>\n",
       "    </tr>\n",
       "  </tbody>\n",
       "</table>\n",
       "</div>"
      ],
      "text/plain": [
       "                           anon_screen_name    Class      EngStatus  Week-1  \\\n",
       "0  1e7ef19f7d2b16cf71044c8064268b5bfd798d16  Engaged  Time >=1 hour   23228   \n",
       "1  d5fd321e713188cffd5cb88dd741644877536e37  Engaged  Time >=1 hour   64977   \n",
       "2  ae8ff88b09212191ade4b9573d4eaba7d01c03a5  Engaged  Time >=1 hour   25996   \n",
       "3  8b7b150270f1989f51973ab13a5fab65ea9c4ad8  Engaged  Time >=1 hour   36281   \n",
       "4  27950f57718267a62f888eb3bd94b2b5e402e931  Engaged  Time >=1 hour    8733   \n",
       "\n",
       "   Week-2  Week-3  Week-4  Week-5  Week-6      avg  \n",
       "0   11818   39958   47862   57961  107289  Engaged  \n",
       "1   60287   46715   69944   48767   40968  Engaged  \n",
       "2   58040   72521   82785   74286   16811  Engaged  \n",
       "3   27538   65544   74339   41865   74256  Engaged  \n",
       "4   31443   36985   21970   69419   83628  Engaged  "
      ]
     },
     "execution_count": 88,
     "metadata": {},
     "output_type": "execute_result"
    }
   ],
   "source": [
    "b6=pd.merge(dh,w6,on='anon_screen_name')\n",
    "b6.head()"
   ]
  },
  {
   "cell_type": "code",
   "execution_count": 89,
   "metadata": {
    "collapsed": false
   },
   "outputs": [
    {
     "data": {
      "text/plain": [
       "True     10015\n",
       "False      575\n",
       "Name: accuracy, dtype: int64"
      ]
     },
     "execution_count": 89,
     "metadata": {},
     "output_type": "execute_result"
    }
   ],
   "source": [
    "b6['accuracy']=b6['Class'] == b6['avg']\n",
    "b6['accuracy'].value_counts()"
   ]
  },
  {
   "cell_type": "markdown",
   "metadata": {},
   "source": [
    "# Week 7"
   ]
  },
  {
   "cell_type": "code",
   "execution_count": 91,
   "metadata": {
    "collapsed": false
   },
   "outputs": [
    {
     "name": "stderr",
     "output_type": "stream",
     "text": [
      "C:\\Users\\rumer\\Downloads\\WinPython-64bit-2.7.10.3\\python-2.7.10.amd64\\lib\\site-packages\\ipykernel\\__main__.py:2: SettingWithCopyWarning: \n",
      "A value is trying to be set on a copy of a slice from a DataFrame.\n",
      "Try using .loc[row_indexer,col_indexer] = value instead\n",
      "\n",
      "See the caveats in the documentation: http://pandas.pydata.org/pandas-docs/stable/indexing.html#indexing-view-versus-copy\n",
      "  from ipykernel import kernelapp as app\n"
     ]
    }
   ],
   "source": [
    "w7=df[['anon_screen_name','Week-1','Week-2','Week-3','Week-4','Week-5','Week-6','Week-7']]\n",
    "w7['avg'] = w7[['Week-1','Week-2','Week-3','Week-4','Week-5','Week-6','Week-7']].mean(axis=1)"
   ]
  },
  {
   "cell_type": "code",
   "execution_count": 92,
   "metadata": {
    "collapsed": false
   },
   "outputs": [
    {
     "name": "stderr",
     "output_type": "stream",
     "text": [
      "C:\\Users\\rumer\\Downloads\\WinPython-64bit-2.7.10.3\\python-2.7.10.amd64\\lib\\site-packages\\ipykernel\\__main__.py:7: SettingWithCopyWarning: \n",
      "A value is trying to be set on a copy of a slice from a DataFrame.\n",
      "Try using .loc[row_indexer,col_indexer] = value instead\n",
      "\n",
      "See the caveats in the documentation: http://pandas.pydata.org/pandas-docs/stable/indexing.html#indexing-view-versus-copy\n"
     ]
    }
   ],
   "source": [
    "def eng(row):\n",
    "    if row['avg']>=600:\n",
    "        value='Engaged'\n",
    "    else:\n",
    "        value='NotEngaged'\n",
    "    return value\n",
    "w7['avg']=w7.apply(eng, axis=1)"
   ]
  },
  {
   "cell_type": "code",
   "execution_count": 93,
   "metadata": {
    "collapsed": false
   },
   "outputs": [
    {
     "data": {
      "text/html": [
       "<div>\n",
       "<table border=\"1\" class=\"dataframe\">\n",
       "  <thead>\n",
       "    <tr style=\"text-align: right;\">\n",
       "      <th></th>\n",
       "      <th>anon_screen_name</th>\n",
       "      <th>Class</th>\n",
       "      <th>EngStatus</th>\n",
       "      <th>Week-1</th>\n",
       "      <th>Week-2</th>\n",
       "      <th>Week-3</th>\n",
       "      <th>Week-4</th>\n",
       "      <th>Week-5</th>\n",
       "      <th>Week-6</th>\n",
       "      <th>Week-7</th>\n",
       "      <th>avg</th>\n",
       "    </tr>\n",
       "  </thead>\n",
       "  <tbody>\n",
       "    <tr>\n",
       "      <th>0</th>\n",
       "      <td>1e7ef19f7d2b16cf71044c8064268b5bfd798d16</td>\n",
       "      <td>Engaged</td>\n",
       "      <td>Time &gt;=1 hour</td>\n",
       "      <td>23228</td>\n",
       "      <td>11818</td>\n",
       "      <td>39958</td>\n",
       "      <td>47862</td>\n",
       "      <td>57961</td>\n",
       "      <td>107289</td>\n",
       "      <td>124361</td>\n",
       "      <td>Engaged</td>\n",
       "    </tr>\n",
       "    <tr>\n",
       "      <th>1</th>\n",
       "      <td>d5fd321e713188cffd5cb88dd741644877536e37</td>\n",
       "      <td>Engaged</td>\n",
       "      <td>Time &gt;=1 hour</td>\n",
       "      <td>64977</td>\n",
       "      <td>60287</td>\n",
       "      <td>46715</td>\n",
       "      <td>69944</td>\n",
       "      <td>48767</td>\n",
       "      <td>40968</td>\n",
       "      <td>41833</td>\n",
       "      <td>Engaged</td>\n",
       "    </tr>\n",
       "    <tr>\n",
       "      <th>2</th>\n",
       "      <td>ae8ff88b09212191ade4b9573d4eaba7d01c03a5</td>\n",
       "      <td>Engaged</td>\n",
       "      <td>Time &gt;=1 hour</td>\n",
       "      <td>25996</td>\n",
       "      <td>58040</td>\n",
       "      <td>72521</td>\n",
       "      <td>82785</td>\n",
       "      <td>74286</td>\n",
       "      <td>16811</td>\n",
       "      <td>35532</td>\n",
       "      <td>Engaged</td>\n",
       "    </tr>\n",
       "    <tr>\n",
       "      <th>3</th>\n",
       "      <td>8b7b150270f1989f51973ab13a5fab65ea9c4ad8</td>\n",
       "      <td>Engaged</td>\n",
       "      <td>Time &gt;=1 hour</td>\n",
       "      <td>36281</td>\n",
       "      <td>27538</td>\n",
       "      <td>65544</td>\n",
       "      <td>74339</td>\n",
       "      <td>41865</td>\n",
       "      <td>74256</td>\n",
       "      <td>44365</td>\n",
       "      <td>Engaged</td>\n",
       "    </tr>\n",
       "    <tr>\n",
       "      <th>4</th>\n",
       "      <td>27950f57718267a62f888eb3bd94b2b5e402e931</td>\n",
       "      <td>Engaged</td>\n",
       "      <td>Time &gt;=1 hour</td>\n",
       "      <td>8733</td>\n",
       "      <td>31443</td>\n",
       "      <td>36985</td>\n",
       "      <td>21970</td>\n",
       "      <td>69419</td>\n",
       "      <td>83628</td>\n",
       "      <td>68442</td>\n",
       "      <td>Engaged</td>\n",
       "    </tr>\n",
       "  </tbody>\n",
       "</table>\n",
       "</div>"
      ],
      "text/plain": [
       "                           anon_screen_name    Class      EngStatus  Week-1  \\\n",
       "0  1e7ef19f7d2b16cf71044c8064268b5bfd798d16  Engaged  Time >=1 hour   23228   \n",
       "1  d5fd321e713188cffd5cb88dd741644877536e37  Engaged  Time >=1 hour   64977   \n",
       "2  ae8ff88b09212191ade4b9573d4eaba7d01c03a5  Engaged  Time >=1 hour   25996   \n",
       "3  8b7b150270f1989f51973ab13a5fab65ea9c4ad8  Engaged  Time >=1 hour   36281   \n",
       "4  27950f57718267a62f888eb3bd94b2b5e402e931  Engaged  Time >=1 hour    8733   \n",
       "\n",
       "   Week-2  Week-3  Week-4  Week-5  Week-6  Week-7      avg  \n",
       "0   11818   39958   47862   57961  107289  124361  Engaged  \n",
       "1   60287   46715   69944   48767   40968   41833  Engaged  \n",
       "2   58040   72521   82785   74286   16811   35532  Engaged  \n",
       "3   27538   65544   74339   41865   74256   44365  Engaged  \n",
       "4   31443   36985   21970   69419   83628   68442  Engaged  "
      ]
     },
     "execution_count": 93,
     "metadata": {},
     "output_type": "execute_result"
    }
   ],
   "source": [
    "b7=pd.merge(dh,w7,on='anon_screen_name')\n",
    "b7.head()"
   ]
  },
  {
   "cell_type": "code",
   "execution_count": 94,
   "metadata": {
    "collapsed": false
   },
   "outputs": [
    {
     "data": {
      "text/plain": [
       "True     10369\n",
       "False      221\n",
       "Name: accuracy, dtype: int64"
      ]
     },
     "execution_count": 94,
     "metadata": {},
     "output_type": "execute_result"
    }
   ],
   "source": [
    "b7['accuracy']=b7['Class'] == b7['avg']\n",
    "b7['accuracy'].value_counts()"
   ]
  },
  {
   "cell_type": "markdown",
   "metadata": {},
   "source": [
    "# Week 8"
   ]
  },
  {
   "cell_type": "code",
   "execution_count": 96,
   "metadata": {
    "collapsed": true
   },
   "outputs": [],
   "source": [
    "w8=df[['anon_screen_name','Week-1','Week-2','Week-3','Week-4','Week-5','Week-6','Week-7','Week-8']]\n",
    "w8['avg'] = w8[['Week-1','Week-2','Week-3','Week-4','Week-5','Week-6','Week-7','Week-8']].mean(axis=1)"
   ]
  },
  {
   "cell_type": "code",
   "execution_count": 97,
   "metadata": {
    "collapsed": true
   },
   "outputs": [],
   "source": [
    "def eng(row):\n",
    "    if row['avg']>=600:\n",
    "        value='Engaged'\n",
    "    else:\n",
    "        value='NotEngaged'\n",
    "    return value\n",
    "w8['avg']=w8.apply(eng, axis=1)"
   ]
  },
  {
   "cell_type": "code",
   "execution_count": 98,
   "metadata": {
    "collapsed": false
   },
   "outputs": [
    {
     "data": {
      "text/html": [
       "<div>\n",
       "<table border=\"1\" class=\"dataframe\">\n",
       "  <thead>\n",
       "    <tr style=\"text-align: right;\">\n",
       "      <th></th>\n",
       "      <th>anon_screen_name</th>\n",
       "      <th>Class</th>\n",
       "      <th>EngStatus</th>\n",
       "      <th>Week-1</th>\n",
       "      <th>Week-2</th>\n",
       "      <th>Week-3</th>\n",
       "      <th>Week-4</th>\n",
       "      <th>Week-5</th>\n",
       "      <th>Week-6</th>\n",
       "      <th>Week-7</th>\n",
       "      <th>Week-8</th>\n",
       "      <th>avg</th>\n",
       "    </tr>\n",
       "  </thead>\n",
       "  <tbody>\n",
       "    <tr>\n",
       "      <th>0</th>\n",
       "      <td>1e7ef19f7d2b16cf71044c8064268b5bfd798d16</td>\n",
       "      <td>Engaged</td>\n",
       "      <td>Time &gt;=1 hour</td>\n",
       "      <td>23228</td>\n",
       "      <td>11818</td>\n",
       "      <td>39958</td>\n",
       "      <td>47862</td>\n",
       "      <td>57961</td>\n",
       "      <td>107289</td>\n",
       "      <td>124361</td>\n",
       "      <td>42704</td>\n",
       "      <td>Engaged</td>\n",
       "    </tr>\n",
       "    <tr>\n",
       "      <th>1</th>\n",
       "      <td>d5fd321e713188cffd5cb88dd741644877536e37</td>\n",
       "      <td>Engaged</td>\n",
       "      <td>Time &gt;=1 hour</td>\n",
       "      <td>64977</td>\n",
       "      <td>60287</td>\n",
       "      <td>46715</td>\n",
       "      <td>69944</td>\n",
       "      <td>48767</td>\n",
       "      <td>40968</td>\n",
       "      <td>41833</td>\n",
       "      <td>49330</td>\n",
       "      <td>Engaged</td>\n",
       "    </tr>\n",
       "    <tr>\n",
       "      <th>2</th>\n",
       "      <td>ae8ff88b09212191ade4b9573d4eaba7d01c03a5</td>\n",
       "      <td>Engaged</td>\n",
       "      <td>Time &gt;=1 hour</td>\n",
       "      <td>25996</td>\n",
       "      <td>58040</td>\n",
       "      <td>72521</td>\n",
       "      <td>82785</td>\n",
       "      <td>74286</td>\n",
       "      <td>16811</td>\n",
       "      <td>35532</td>\n",
       "      <td>47686</td>\n",
       "      <td>Engaged</td>\n",
       "    </tr>\n",
       "    <tr>\n",
       "      <th>3</th>\n",
       "      <td>8b7b150270f1989f51973ab13a5fab65ea9c4ad8</td>\n",
       "      <td>Engaged</td>\n",
       "      <td>Time &gt;=1 hour</td>\n",
       "      <td>36281</td>\n",
       "      <td>27538</td>\n",
       "      <td>65544</td>\n",
       "      <td>74339</td>\n",
       "      <td>41865</td>\n",
       "      <td>74256</td>\n",
       "      <td>44365</td>\n",
       "      <td>43441</td>\n",
       "      <td>Engaged</td>\n",
       "    </tr>\n",
       "    <tr>\n",
       "      <th>4</th>\n",
       "      <td>27950f57718267a62f888eb3bd94b2b5e402e931</td>\n",
       "      <td>Engaged</td>\n",
       "      <td>Time &gt;=1 hour</td>\n",
       "      <td>8733</td>\n",
       "      <td>31443</td>\n",
       "      <td>36985</td>\n",
       "      <td>21970</td>\n",
       "      <td>69419</td>\n",
       "      <td>83628</td>\n",
       "      <td>68442</td>\n",
       "      <td>45822</td>\n",
       "      <td>Engaged</td>\n",
       "    </tr>\n",
       "  </tbody>\n",
       "</table>\n",
       "</div>"
      ],
      "text/plain": [
       "                           anon_screen_name    Class      EngStatus  Week-1  \\\n",
       "0  1e7ef19f7d2b16cf71044c8064268b5bfd798d16  Engaged  Time >=1 hour   23228   \n",
       "1  d5fd321e713188cffd5cb88dd741644877536e37  Engaged  Time >=1 hour   64977   \n",
       "2  ae8ff88b09212191ade4b9573d4eaba7d01c03a5  Engaged  Time >=1 hour   25996   \n",
       "3  8b7b150270f1989f51973ab13a5fab65ea9c4ad8  Engaged  Time >=1 hour   36281   \n",
       "4  27950f57718267a62f888eb3bd94b2b5e402e931  Engaged  Time >=1 hour    8733   \n",
       "\n",
       "   Week-2  Week-3  Week-4  Week-5  Week-6  Week-7  Week-8      avg  \n",
       "0   11818   39958   47862   57961  107289  124361   42704  Engaged  \n",
       "1   60287   46715   69944   48767   40968   41833   49330  Engaged  \n",
       "2   58040   72521   82785   74286   16811   35532   47686  Engaged  \n",
       "3   27538   65544   74339   41865   74256   44365   43441  Engaged  \n",
       "4   31443   36985   21970   69419   83628   68442   45822  Engaged  "
      ]
     },
     "execution_count": 98,
     "metadata": {},
     "output_type": "execute_result"
    }
   ],
   "source": [
    "b8=pd.merge(dh,w8,on='anon_screen_name')\n",
    "b8.head()"
   ]
  },
  {
   "cell_type": "code",
   "execution_count": 99,
   "metadata": {
    "collapsed": false
   },
   "outputs": [
    {
     "data": {
      "text/plain": [
       "True     10504\n",
       "False       86\n",
       "Name: accuracy, dtype: int64"
      ]
     },
     "execution_count": 99,
     "metadata": {},
     "output_type": "execute_result"
    }
   ],
   "source": [
    "b8['accuracy']=b8['Class'] == b8['avg']\n",
    "b8['accuracy'].value_counts()"
   ]
  },
  {
   "cell_type": "code",
   "execution_count": null,
   "metadata": {
    "collapsed": true
   },
   "outputs": [],
   "source": []
  },
  {
   "cell_type": "code",
   "execution_count": null,
   "metadata": {
    "collapsed": true
   },
   "outputs": [],
   "source": []
  },
  {
   "cell_type": "code",
   "execution_count": null,
   "metadata": {
    "collapsed": true
   },
   "outputs": [],
   "source": []
  },
  {
   "cell_type": "code",
   "execution_count": null,
   "metadata": {
    "collapsed": true
   },
   "outputs": [],
   "source": [
    "w1['Class1']=w1['Week-1']>=1800"
   ]
  },
  {
   "cell_type": "code",
   "execution_count": 212,
   "metadata": {
    "collapsed": false
   },
   "outputs": [],
   "source": [
    "Pass.to_csv(\"PassEng.csv\")"
   ]
  },
  {
   "cell_type": "code",
   "execution_count": 213,
   "metadata": {
    "collapsed": true
   },
   "outputs": [],
   "source": [
    "Fail.to_csv(\"FailEng.csv\")"
   ]
  },
  {
   "cell_type": "code",
   "execution_count": 247,
   "metadata": {
    "collapsed": false
   },
   "outputs": [
    {
     "data": {
      "text/plain": [
       "<matplotlib.axes._subplots.AxesSubplot at 0x41d8d5c0>"
      ]
     },
     "execution_count": 247,
     "metadata": {},
     "output_type": "execute_result"
    },
    {
     "data": {
      "image/png": "[encoded data removed]",
      "text/plain": [
       "<matplotlib.figure.Figure at 0x344062e8>"
      ]
     },
     "metadata": {},
     "output_type": "display_data"
    }
   ],
   "source": [
    "grp=Pass.groupby(['hours'])\n",
    "grp['anon_screen_name'].count().plot(kind='bar',title='Pass students Engagement in hours')"
   ]
  },
  {
   "cell_type": "code",
   "execution_count": 248,
   "metadata": {
    "collapsed": false
   },
   "outputs": [
    {
     "data": {
      "text/plain": [
       "<matplotlib.axes._subplots.AxesSubplot at 0x42283940>"
      ]
     },
     "execution_count": 248,
     "metadata": {},
     "output_type": "execute_result"
    },
    {
     "data": {
      "image/png": "[encoded data removed]",
      "text/plain": [
       "<matplotlib.figure.Figure at 0x406feba8>"
      ]
     },
     "metadata": {},
     "output_type": "display_data"
    }
   ],
   "source": [
    "grp=Fail.groupby(['hours'])\n",
    "grp['anon_screen_name'].count().plot(kind='bar',title='Fail students Engagement in hours')"
   ]
  },
  {
   "cell_type": "code",
   "execution_count": 249,
   "metadata": {
    "collapsed": false
   },
   "outputs": [
    {
     "data": {
      "text/plain": [
       "Index([u'anon_screen_name', u'Week-1', u'Week-2', u'Week-3', u'Week-4',\n",
       "       u'Week-5', u'Week-6', u'Week-7', u'Week-8', u'Average', u'hours',\n",
       "       u'minutes'],\n",
       "      dtype='object')"
      ]
     },
     "execution_count": 249,
     "metadata": {},
     "output_type": "execute_result"
    }
   ],
   "source": [
    "df.columns"
   ]
  },
  {
   "cell_type": "code",
   "execution_count": 292,
   "metadata": {
    "collapsed": false
   },
   "outputs": [],
   "source": [
    "def eng(row):\n",
    "    if row['minutes']>=60:\n",
    "        value='Time >=1 hour'\n",
    "    elif((row['minutes']<60)&(row['minutes']>=30)):\n",
    "        value='Time<1hour'\n",
    "    elif ((row['minutes']<30)&(row['minutes']>=20)):\n",
    "        value='Time<30Mins'\n",
    "    elif ((row['minutes']<20)&(row['minutes']>=10)):\n",
    "        value='Time<20Mins'\n",
    "    elif ((row['minutes']<10)&(row['minutes']>=0)):\n",
    "        value='Time<10Mins'\n",
    "    return value\n",
    "data['EngStatus']=data.apply(eng, axis=1)"
   ]
  },
  {
   "cell_type": "code",
   "execution_count": 293,
   "metadata": {
    "collapsed": false
   },
   "outputs": [
    {
     "data": {
      "text/plain": [
       "Index([u'anon_screen_name', u'Week-1', u'Week-2', u'Week-3', u'Week-4',\n",
       "       u'Week-5', u'Week-6', u'Week-7', u'Week-8', u'Average', u'hours',\n",
       "       u'minutes', u'Finalgrade', u'FinalScore', u'EngStatus'],\n",
       "      dtype='object')"
      ]
     },
     "execution_count": 293,
     "metadata": {},
     "output_type": "execute_result"
    }
   ],
   "source": [
    "data.columns"
   ]
  },
  {
   "cell_type": "code",
   "execution_count": 294,
   "metadata": {
    "collapsed": false
   },
   "outputs": [],
   "source": [
    "m=data.groupby(['FinalScore','EngStatus'])"
   ]
  },
  {
   "cell_type": "code",
   "execution_count": 295,
   "metadata": {
    "collapsed": false
   },
   "outputs": [
    {
     "data": {
      "text/plain": [
       "FinalScore  EngStatus    \n",
       "Fail        Time >=1 hour     540\n",
       "            Time<10Mins      6290\n",
       "            Time<1hour        808\n",
       "            Time<20Mins      1182\n",
       "            Time<30Mins       634\n",
       "Pass        Time >=1 hour     811\n",
       "            Time<10Mins        97\n",
       "            Time<1hour        132\n",
       "            Time<20Mins        51\n",
       "            Time<30Mins        45\n",
       "Name: anon_screen_name, dtype: int64"
      ]
     },
     "execution_count": 295,
     "metadata": {},
     "output_type": "execute_result"
    }
   ],
   "source": [
    "m['anon_screen_name'].count()"
   ]
  },
  {
   "cell_type": "code",
   "execution_count": 343,
   "metadata": {
    "collapsed": false
   },
   "outputs": [
    {
     "data": {
      "text/plain": [
       "173.54706572769953"
      ]
     },
     "execution_count": 343,
     "metadata": {},
     "output_type": "execute_result"
    }
   ],
   "source": [
    "Pass['Week-8'].mean()/60\n"
   ]
  },
  {
   "cell_type": "code",
   "execution_count": 344,
   "metadata": {
    "collapsed": true
   },
   "outputs": [],
   "source": [
    "def eng(row):\n",
    "    if row['minutes']>60:\n",
    "        value='AboveAvgEngaged'\n",
    "    elif((row['minutes']<=60)&(row['minutes']>=10)):\n",
    "        value='AverageEngaged'\n",
    "    else:\n",
    "        value='BelowAverage'\n",
    "    return value\n",
    "data['Class']=data.apply(eng, axis=1)"
   ]
  },
  {
   "cell_type": "code",
   "execution_count": 346,
   "metadata": {
    "collapsed": false
   },
   "outputs": [],
   "source": [
    "data.to_csv(\"EngagmentFinal.csv\")"
   ]
  },
  {
   "cell_type": "code",
   "execution_count": 357,
   "metadata": {
    "collapsed": false
   },
   "outputs": [],
   "source": [
    "a=data[data['Class']=='BelowAverage']"
   ]
  },
  {
   "cell_type": "code",
   "execution_count": 358,
   "metadata": {
    "collapsed": false
   },
   "outputs": [
    {
     "data": {
      "text/plain": [
       "6387"
      ]
     },
     "execution_count": 358,
     "metadata": {},
     "output_type": "execute_result"
    }
   ],
   "source": [
    "len(a)"
   ]
  },
  {
   "cell_type": "code",
   "execution_count": 362,
   "metadata": {
    "collapsed": false
   },
   "outputs": [],
   "source": [
    "D=data[['anon_screen_name','Class','EngStatus']]"
   ]
  },
  {
   "cell_type": "code",
   "execution_count": 363,
   "metadata": {
    "collapsed": false
   },
   "outputs": [
    {
     "data": {
      "text/html": [
       "<div>\n",
       "<table border=\"1\" class=\"dataframe\">\n",
       "  <thead>\n",
       "    <tr style=\"text-align: right;\">\n",
       "      <th></th>\n",
       "      <th>anon_screen_name</th>\n",
       "      <th>Class</th>\n",
       "      <th>EngStatus</th>\n",
       "    </tr>\n",
       "  </thead>\n",
       "  <tbody>\n",
       "    <tr>\n",
       "      <th>0</th>\n",
       "      <td>1e7ef19f7d2b16cf71044c8064268b5bfd798d16</td>\n",
       "      <td>AboveAvgEngaged</td>\n",
       "      <td>Time &gt;=1 hour</td>\n",
       "    </tr>\n",
       "    <tr>\n",
       "      <th>1</th>\n",
       "      <td>d5fd321e713188cffd5cb88dd741644877536e37</td>\n",
       "      <td>AboveAvgEngaged</td>\n",
       "      <td>Time &gt;=1 hour</td>\n",
       "    </tr>\n",
       "    <tr>\n",
       "      <th>2</th>\n",
       "      <td>ae8ff88b09212191ade4b9573d4eaba7d01c03a5</td>\n",
       "      <td>AboveAvgEngaged</td>\n",
       "      <td>Time &gt;=1 hour</td>\n",
       "    </tr>\n",
       "    <tr>\n",
       "      <th>3</th>\n",
       "      <td>8b7b150270f1989f51973ab13a5fab65ea9c4ad8</td>\n",
       "      <td>AboveAvgEngaged</td>\n",
       "      <td>Time &gt;=1 hour</td>\n",
       "    </tr>\n",
       "    <tr>\n",
       "      <th>4</th>\n",
       "      <td>27950f57718267a62f888eb3bd94b2b5e402e931</td>\n",
       "      <td>AboveAvgEngaged</td>\n",
       "      <td>Time &gt;=1 hour</td>\n",
       "    </tr>\n",
       "    <tr>\n",
       "      <th>5</th>\n",
       "      <td>fc65ebff6919dcccc9e1845a0bea338ee09a8339</td>\n",
       "      <td>AboveAvgEngaged</td>\n",
       "      <td>Time &gt;=1 hour</td>\n",
       "    </tr>\n",
       "    <tr>\n",
       "      <th>6</th>\n",
       "      <td>e7eba994233bdc4650c0e2282903866c2d940c81</td>\n",
       "      <td>AboveAvgEngaged</td>\n",
       "      <td>Time &gt;=1 hour</td>\n",
       "    </tr>\n",
       "    <tr>\n",
       "      <th>7</th>\n",
       "      <td>d8d8b43c283088db7744598cd10578f425f1f36e</td>\n",
       "      <td>AboveAvgEngaged</td>\n",
       "      <td>Time &gt;=1 hour</td>\n",
       "    </tr>\n",
       "    <tr>\n",
       "      <th>8</th>\n",
       "      <td>68592ab6dcadb7a15499b0426bb75b72fcecc84f</td>\n",
       "      <td>AboveAvgEngaged</td>\n",
       "      <td>Time &gt;=1 hour</td>\n",
       "    </tr>\n",
       "    <tr>\n",
       "      <th>9</th>\n",
       "      <td>092f57555dff5b3fece68be0c3f5d0da82da0586</td>\n",
       "      <td>AboveAvgEngaged</td>\n",
       "      <td>Time &gt;=1 hour</td>\n",
       "    </tr>\n",
       "    <tr>\n",
       "      <th>10</th>\n",
       "      <td>655679b26d4ac843f5aa43f69a0ae9aa1b68f77e</td>\n",
       "      <td>AboveAvgEngaged</td>\n",
       "      <td>Time &gt;=1 hour</td>\n",
       "    </tr>\n",
       "    <tr>\n",
       "      <th>11</th>\n",
       "      <td>1de96d9868c355a62627011b95c52bfe5d80ae44</td>\n",
       "      <td>AboveAvgEngaged</td>\n",
       "      <td>Time &gt;=1 hour</td>\n",
       "    </tr>\n",
       "    <tr>\n",
       "      <th>12</th>\n",
       "      <td>166ec95bc0dab27f9d325b3c5f50507ce24381a9</td>\n",
       "      <td>AboveAvgEngaged</td>\n",
       "      <td>Time &gt;=1 hour</td>\n",
       "    </tr>\n",
       "    <tr>\n",
       "      <th>13</th>\n",
       "      <td>dfeeb5124cba8e6d37f09c94ebbf72d441a06e7c</td>\n",
       "      <td>AboveAvgEngaged</td>\n",
       "      <td>Time &gt;=1 hour</td>\n",
       "    </tr>\n",
       "    <tr>\n",
       "      <th>14</th>\n",
       "      <td>fd2c9dc14d475490d60b7590ff6d716c08d90656</td>\n",
       "      <td>AboveAvgEngaged</td>\n",
       "      <td>Time &gt;=1 hour</td>\n",
       "    </tr>\n",
       "    <tr>\n",
       "      <th>15</th>\n",
       "      <td>3c1f2d4f832603832bbdeccdfb8a808020e6b4ed</td>\n",
       "      <td>AboveAvgEngaged</td>\n",
       "      <td>Time &gt;=1 hour</td>\n",
       "    </tr>\n",
       "    <tr>\n",
       "      <th>16</th>\n",
       "      <td>8e460ec8a4f6a2fe820d24b2a8392d7c48a872ae</td>\n",
       "      <td>AboveAvgEngaged</td>\n",
       "      <td>Time &gt;=1 hour</td>\n",
       "    </tr>\n",
       "    <tr>\n",
       "      <th>17</th>\n",
       "      <td>3e39508fb7bbacbc827902c9b12e79fb19c0f6a1</td>\n",
       "      <td>AboveAvgEngaged</td>\n",
       "      <td>Time &gt;=1 hour</td>\n",
       "    </tr>\n",
       "    <tr>\n",
       "      <th>18</th>\n",
       "      <td>259a2b3b863ea8d390f4e82822543e5015815bf3</td>\n",
       "      <td>AboveAvgEngaged</td>\n",
       "      <td>Time &gt;=1 hour</td>\n",
       "    </tr>\n",
       "    <tr>\n",
       "      <th>19</th>\n",
       "      <td>7edc68da81d1eaa823bdb45c4b8dd949704e45ab</td>\n",
       "      <td>AboveAvgEngaged</td>\n",
       "      <td>Time &gt;=1 hour</td>\n",
       "    </tr>\n",
       "    <tr>\n",
       "      <th>20</th>\n",
       "      <td>a0ad190b13b6670c008984a88a10e02bd6dfeee9</td>\n",
       "      <td>AboveAvgEngaged</td>\n",
       "      <td>Time &gt;=1 hour</td>\n",
       "    </tr>\n",
       "    <tr>\n",
       "      <th>21</th>\n",
       "      <td>4215e39e9a3c68b86aac30974ccc67ef6bb64c99</td>\n",
       "      <td>AboveAvgEngaged</td>\n",
       "      <td>Time &gt;=1 hour</td>\n",
       "    </tr>\n",
       "    <tr>\n",
       "      <th>22</th>\n",
       "      <td>e3c4df9b2e8f450fc3eb52a4004b3b923d83851a</td>\n",
       "      <td>AboveAvgEngaged</td>\n",
       "      <td>Time &gt;=1 hour</td>\n",
       "    </tr>\n",
       "    <tr>\n",
       "      <th>23</th>\n",
       "      <td>796addcb5ac8be4a5990046bbb5b308b063e54ba</td>\n",
       "      <td>AboveAvgEngaged</td>\n",
       "      <td>Time &gt;=1 hour</td>\n",
       "    </tr>\n",
       "    <tr>\n",
       "      <th>24</th>\n",
       "      <td>d9ec9895dc74a9d30d8b7242aeea9e32a7e12799</td>\n",
       "      <td>AboveAvgEngaged</td>\n",
       "      <td>Time &gt;=1 hour</td>\n",
       "    </tr>\n",
       "    <tr>\n",
       "      <th>25</th>\n",
       "      <td>e41205a9258c0e2d9f76b2fa4a48c4fef2bf57d9</td>\n",
       "      <td>AboveAvgEngaged</td>\n",
       "      <td>Time &gt;=1 hour</td>\n",
       "    </tr>\n",
       "    <tr>\n",
       "      <th>26</th>\n",
       "      <td>661ef0252fe925eda64296aa4b4ab7fc2b34ff65</td>\n",
       "      <td>AboveAvgEngaged</td>\n",
       "      <td>Time &gt;=1 hour</td>\n",
       "    </tr>\n",
       "    <tr>\n",
       "      <th>27</th>\n",
       "      <td>b2ee74bc94cb8449499ee05e796c8336007c61c5</td>\n",
       "      <td>AboveAvgEngaged</td>\n",
       "      <td>Time &gt;=1 hour</td>\n",
       "    </tr>\n",
       "    <tr>\n",
       "      <th>28</th>\n",
       "      <td>91455e71b39669bbb341523488ab3416aed807eb</td>\n",
       "      <td>AboveAvgEngaged</td>\n",
       "      <td>Time &gt;=1 hour</td>\n",
       "    </tr>\n",
       "    <tr>\n",
       "      <th>29</th>\n",
       "      <td>b74cab23c03d26bd0a0d1b0dd99d9a4bb08bda76</td>\n",
       "      <td>AboveAvgEngaged</td>\n",
       "      <td>Time &gt;=1 hour</td>\n",
       "    </tr>\n",
       "    <tr>\n",
       "      <th>...</th>\n",
       "      <td>...</td>\n",
       "      <td>...</td>\n",
       "      <td>...</td>\n",
       "    </tr>\n",
       "    <tr>\n",
       "      <th>10560</th>\n",
       "      <td>f57f1741c63dd7b24781629c52e30aa2152b59f3</td>\n",
       "      <td>BelowAverage</td>\n",
       "      <td>Time&lt;10Mins</td>\n",
       "    </tr>\n",
       "    <tr>\n",
       "      <th>10561</th>\n",
       "      <td>f58b156a0d76c08396e082d75978e4aed59108c0</td>\n",
       "      <td>BelowAverage</td>\n",
       "      <td>Time&lt;10Mins</td>\n",
       "    </tr>\n",
       "    <tr>\n",
       "      <th>10562</th>\n",
       "      <td>f59b623cbaf88f5014270ce841169210017b8448</td>\n",
       "      <td>BelowAverage</td>\n",
       "      <td>Time&lt;10Mins</td>\n",
       "    </tr>\n",
       "    <tr>\n",
       "      <th>10563</th>\n",
       "      <td>f6cfac636e35a51c36b1e749a3ace572245800fb</td>\n",
       "      <td>BelowAverage</td>\n",
       "      <td>Time&lt;10Mins</td>\n",
       "    </tr>\n",
       "    <tr>\n",
       "      <th>10564</th>\n",
       "      <td>f6e8f3c0719722e3cef0306bb3d95585b5ff6970</td>\n",
       "      <td>BelowAverage</td>\n",
       "      <td>Time&lt;10Mins</td>\n",
       "    </tr>\n",
       "    <tr>\n",
       "      <th>10565</th>\n",
       "      <td>f72263bde83af718803ddf49411e6df4a8dc20d5</td>\n",
       "      <td>BelowAverage</td>\n",
       "      <td>Time&lt;10Mins</td>\n",
       "    </tr>\n",
       "    <tr>\n",
       "      <th>10566</th>\n",
       "      <td>f753e3d5d5b57d0d25506c64124633781bf828aa</td>\n",
       "      <td>BelowAverage</td>\n",
       "      <td>Time&lt;10Mins</td>\n",
       "    </tr>\n",
       "    <tr>\n",
       "      <th>10567</th>\n",
       "      <td>f82b2bdb3001718dde463478bcbda8178a8cd6a6</td>\n",
       "      <td>BelowAverage</td>\n",
       "      <td>Time&lt;10Mins</td>\n",
       "    </tr>\n",
       "    <tr>\n",
       "      <th>10568</th>\n",
       "      <td>f8420c8b3c34930042817d37df7195664c0d6345</td>\n",
       "      <td>BelowAverage</td>\n",
       "      <td>Time&lt;10Mins</td>\n",
       "    </tr>\n",
       "    <tr>\n",
       "      <th>10569</th>\n",
       "      <td>f84d64514af501428b5ef82e2ed45361230a175e</td>\n",
       "      <td>BelowAverage</td>\n",
       "      <td>Time&lt;10Mins</td>\n",
       "    </tr>\n",
       "    <tr>\n",
       "      <th>10570</th>\n",
       "      <td>f8594f3ee76a05c7cbe11db2096902a074c5b5cb</td>\n",
       "      <td>BelowAverage</td>\n",
       "      <td>Time&lt;10Mins</td>\n",
       "    </tr>\n",
       "    <tr>\n",
       "      <th>10571</th>\n",
       "      <td>f9184fc97bdbbc82cb990bbeae288d4b5724f9c4</td>\n",
       "      <td>BelowAverage</td>\n",
       "      <td>Time&lt;10Mins</td>\n",
       "    </tr>\n",
       "    <tr>\n",
       "      <th>10572</th>\n",
       "      <td>f98d1ee2b682c88b4dc3001d36fa62e97b427185</td>\n",
       "      <td>BelowAverage</td>\n",
       "      <td>Time&lt;10Mins</td>\n",
       "    </tr>\n",
       "    <tr>\n",
       "      <th>10573</th>\n",
       "      <td>fb47feec421a9b2f5c0122d73dc0a82a892019e0</td>\n",
       "      <td>BelowAverage</td>\n",
       "      <td>Time&lt;10Mins</td>\n",
       "    </tr>\n",
       "    <tr>\n",
       "      <th>10574</th>\n",
       "      <td>fb5a63686ee2323b044cb999a0dbd1119faad42a</td>\n",
       "      <td>BelowAverage</td>\n",
       "      <td>Time&lt;10Mins</td>\n",
       "    </tr>\n",
       "    <tr>\n",
       "      <th>10575</th>\n",
       "      <td>fb69fb3da725f4bcdb632ce26fcc7ed22b7821d5</td>\n",
       "      <td>BelowAverage</td>\n",
       "      <td>Time&lt;10Mins</td>\n",
       "    </tr>\n",
       "    <tr>\n",
       "      <th>10576</th>\n",
       "      <td>fb77b52b9c0061d125cb22295f0bdad6906b5d88</td>\n",
       "      <td>BelowAverage</td>\n",
       "      <td>Time&lt;10Mins</td>\n",
       "    </tr>\n",
       "    <tr>\n",
       "      <th>10577</th>\n",
       "      <td>fc426d8060bcd0cc3315885dc87a396356234126</td>\n",
       "      <td>BelowAverage</td>\n",
       "      <td>Time&lt;10Mins</td>\n",
       "    </tr>\n",
       "    <tr>\n",
       "      <th>10578</th>\n",
       "      <td>fc4ca06d1ffbcc423ebb52151c5b4037a5255608</td>\n",
       "      <td>BelowAverage</td>\n",
       "      <td>Time&lt;10Mins</td>\n",
       "    </tr>\n",
       "    <tr>\n",
       "      <th>10579</th>\n",
       "      <td>fc6c8534950bcaae75d211c6c55ccdc24870e842</td>\n",
       "      <td>BelowAverage</td>\n",
       "      <td>Time&lt;10Mins</td>\n",
       "    </tr>\n",
       "    <tr>\n",
       "      <th>10580</th>\n",
       "      <td>fcbb941bce1bf3b5de6290806323501b2cc584fa</td>\n",
       "      <td>BelowAverage</td>\n",
       "      <td>Time&lt;10Mins</td>\n",
       "    </tr>\n",
       "    <tr>\n",
       "      <th>10581</th>\n",
       "      <td>fd0c0289c290170319546fd5d779a410d062ea16</td>\n",
       "      <td>BelowAverage</td>\n",
       "      <td>Time&lt;10Mins</td>\n",
       "    </tr>\n",
       "    <tr>\n",
       "      <th>10582</th>\n",
       "      <td>fd913205a9faa02b0517596ffd6b5a114eefacb0</td>\n",
       "      <td>BelowAverage</td>\n",
       "      <td>Time&lt;10Mins</td>\n",
       "    </tr>\n",
       "    <tr>\n",
       "      <th>10583</th>\n",
       "      <td>fda8bdb031d0a330a26cab6fad21019416488e8c</td>\n",
       "      <td>BelowAverage</td>\n",
       "      <td>Time&lt;10Mins</td>\n",
       "    </tr>\n",
       "    <tr>\n",
       "      <th>10584</th>\n",
       "      <td>fddc753d47b6b7c00f3b795d7d6e21dcefd2a347</td>\n",
       "      <td>BelowAverage</td>\n",
       "      <td>Time&lt;10Mins</td>\n",
       "    </tr>\n",
       "    <tr>\n",
       "      <th>10585</th>\n",
       "      <td>fdf42a806838d5fd65ca53f6001bfce128f2cfdf</td>\n",
       "      <td>BelowAverage</td>\n",
       "      <td>Time&lt;10Mins</td>\n",
       "    </tr>\n",
       "    <tr>\n",
       "      <th>10586</th>\n",
       "      <td>fe2efe3deac56a800539b58a6c1590a61dfb1aad</td>\n",
       "      <td>BelowAverage</td>\n",
       "      <td>Time&lt;10Mins</td>\n",
       "    </tr>\n",
       "    <tr>\n",
       "      <th>10587</th>\n",
       "      <td>fec738eb1c679f09e30048fd599908d8bfff4ffa</td>\n",
       "      <td>BelowAverage</td>\n",
       "      <td>Time&lt;10Mins</td>\n",
       "    </tr>\n",
       "    <tr>\n",
       "      <th>10588</th>\n",
       "      <td>fedd1a4b61388b1ce5d32bf9944e90ce5ee76ff8</td>\n",
       "      <td>BelowAverage</td>\n",
       "      <td>Time&lt;10Mins</td>\n",
       "    </tr>\n",
       "    <tr>\n",
       "      <th>10589</th>\n",
       "      <td>ff302cd72d63fb06ca93595b8e5a0e77450d7811</td>\n",
       "      <td>BelowAverage</td>\n",
       "      <td>Time&lt;10Mins</td>\n",
       "    </tr>\n",
       "  </tbody>\n",
       "</table>\n",
       "<p>10590 rows × 3 columns</p>\n",
       "</div>"
      ],
      "text/plain": [
       "                               anon_screen_name            Class  \\\n",
       "0      1e7ef19f7d2b16cf71044c8064268b5bfd798d16  AboveAvgEngaged   \n",
       "1      d5fd321e713188cffd5cb88dd741644877536e37  AboveAvgEngaged   \n",
       "2      ae8ff88b09212191ade4b9573d4eaba7d01c03a5  AboveAvgEngaged   \n",
       "3      8b7b150270f1989f51973ab13a5fab65ea9c4ad8  AboveAvgEngaged   \n",
       "4      27950f57718267a62f888eb3bd94b2b5e402e931  AboveAvgEngaged   \n",
       "5      fc65ebff6919dcccc9e1845a0bea338ee09a8339  AboveAvgEngaged   \n",
       "6      e7eba994233bdc4650c0e2282903866c2d940c81  AboveAvgEngaged   \n",
       "7      d8d8b43c283088db7744598cd10578f425f1f36e  AboveAvgEngaged   \n",
       "8      68592ab6dcadb7a15499b0426bb75b72fcecc84f  AboveAvgEngaged   \n",
       "9      092f57555dff5b3fece68be0c3f5d0da82da0586  AboveAvgEngaged   \n",
       "10     655679b26d4ac843f5aa43f69a0ae9aa1b68f77e  AboveAvgEngaged   \n",
       "11     1de96d9868c355a62627011b95c52bfe5d80ae44  AboveAvgEngaged   \n",
       "12     166ec95bc0dab27f9d325b3c5f50507ce24381a9  AboveAvgEngaged   \n",
       "13     dfeeb5124cba8e6d37f09c94ebbf72d441a06e7c  AboveAvgEngaged   \n",
       "14     fd2c9dc14d475490d60b7590ff6d716c08d90656  AboveAvgEngaged   \n",
       "15     3c1f2d4f832603832bbdeccdfb8a808020e6b4ed  AboveAvgEngaged   \n",
       "16     8e460ec8a4f6a2fe820d24b2a8392d7c48a872ae  AboveAvgEngaged   \n",
       "17     3e39508fb7bbacbc827902c9b12e79fb19c0f6a1  AboveAvgEngaged   \n",
       "18     259a2b3b863ea8d390f4e82822543e5015815bf3  AboveAvgEngaged   \n",
       "19     7edc68da81d1eaa823bdb45c4b8dd949704e45ab  AboveAvgEngaged   \n",
       "20     a0ad190b13b6670c008984a88a10e02bd6dfeee9  AboveAvgEngaged   \n",
       "21     4215e39e9a3c68b86aac30974ccc67ef6bb64c99  AboveAvgEngaged   \n",
       "22     e3c4df9b2e8f450fc3eb52a4004b3b923d83851a  AboveAvgEngaged   \n",
       "23     796addcb5ac8be4a5990046bbb5b308b063e54ba  AboveAvgEngaged   \n",
       "24     d9ec9895dc74a9d30d8b7242aeea9e32a7e12799  AboveAvgEngaged   \n",
       "25     e41205a9258c0e2d9f76b2fa4a48c4fef2bf57d9  AboveAvgEngaged   \n",
       "26     661ef0252fe925eda64296aa4b4ab7fc2b34ff65  AboveAvgEngaged   \n",
       "27     b2ee74bc94cb8449499ee05e796c8336007c61c5  AboveAvgEngaged   \n",
       "28     91455e71b39669bbb341523488ab3416aed807eb  AboveAvgEngaged   \n",
       "29     b74cab23c03d26bd0a0d1b0dd99d9a4bb08bda76  AboveAvgEngaged   \n",
       "...                                         ...              ...   \n",
       "10560  f57f1741c63dd7b24781629c52e30aa2152b59f3     BelowAverage   \n",
       "10561  f58b156a0d76c08396e082d75978e4aed59108c0     BelowAverage   \n",
       "10562  f59b623cbaf88f5014270ce841169210017b8448     BelowAverage   \n",
       "10563  f6cfac636e35a51c36b1e749a3ace572245800fb     BelowAverage   \n",
       "10564  f6e8f3c0719722e3cef0306bb3d95585b5ff6970     BelowAverage   \n",
       "10565  f72263bde83af718803ddf49411e6df4a8dc20d5     BelowAverage   \n",
       "10566  f753e3d5d5b57d0d25506c64124633781bf828aa     BelowAverage   \n",
       "10567  f82b2bdb3001718dde463478bcbda8178a8cd6a6     BelowAverage   \n",
       "10568  f8420c8b3c34930042817d37df7195664c0d6345     BelowAverage   \n",
       "10569  f84d64514af501428b5ef82e2ed45361230a175e     BelowAverage   \n",
       "10570  f8594f3ee76a05c7cbe11db2096902a074c5b5cb     BelowAverage   \n",
       "10571  f9184fc97bdbbc82cb990bbeae288d4b5724f9c4     BelowAverage   \n",
       "10572  f98d1ee2b682c88b4dc3001d36fa62e97b427185     BelowAverage   \n",
       "10573  fb47feec421a9b2f5c0122d73dc0a82a892019e0     BelowAverage   \n",
       "10574  fb5a63686ee2323b044cb999a0dbd1119faad42a     BelowAverage   \n",
       "10575  fb69fb3da725f4bcdb632ce26fcc7ed22b7821d5     BelowAverage   \n",
       "10576  fb77b52b9c0061d125cb22295f0bdad6906b5d88     BelowAverage   \n",
       "10577  fc426d8060bcd0cc3315885dc87a396356234126     BelowAverage   \n",
       "10578  fc4ca06d1ffbcc423ebb52151c5b4037a5255608     BelowAverage   \n",
       "10579  fc6c8534950bcaae75d211c6c55ccdc24870e842     BelowAverage   \n",
       "10580  fcbb941bce1bf3b5de6290806323501b2cc584fa     BelowAverage   \n",
       "10581  fd0c0289c290170319546fd5d779a410d062ea16     BelowAverage   \n",
       "10582  fd913205a9faa02b0517596ffd6b5a114eefacb0     BelowAverage   \n",
       "10583  fda8bdb031d0a330a26cab6fad21019416488e8c     BelowAverage   \n",
       "10584  fddc753d47b6b7c00f3b795d7d6e21dcefd2a347     BelowAverage   \n",
       "10585  fdf42a806838d5fd65ca53f6001bfce128f2cfdf     BelowAverage   \n",
       "10586  fe2efe3deac56a800539b58a6c1590a61dfb1aad     BelowAverage   \n",
       "10587  fec738eb1c679f09e30048fd599908d8bfff4ffa     BelowAverage   \n",
       "10588  fedd1a4b61388b1ce5d32bf9944e90ce5ee76ff8     BelowAverage   \n",
       "10589  ff302cd72d63fb06ca93595b8e5a0e77450d7811     BelowAverage   \n",
       "\n",
       "           EngStatus  \n",
       "0      Time >=1 hour  \n",
       "1      Time >=1 hour  \n",
       "2      Time >=1 hour  \n",
       "3      Time >=1 hour  \n",
       "4      Time >=1 hour  \n",
       "5      Time >=1 hour  \n",
       "6      Time >=1 hour  \n",
       "7      Time >=1 hour  \n",
       "8      Time >=1 hour  \n",
       "9      Time >=1 hour  \n",
       "10     Time >=1 hour  \n",
       "11     Time >=1 hour  \n",
       "12     Time >=1 hour  \n",
       "13     Time >=1 hour  \n",
       "14     Time >=1 hour  \n",
       "15     Time >=1 hour  \n",
       "16     Time >=1 hour  \n",
       "17     Time >=1 hour  \n",
       "18     Time >=1 hour  \n",
       "19     Time >=1 hour  \n",
       "20     Time >=1 hour  \n",
       "21     Time >=1 hour  \n",
       "22     Time >=1 hour  \n",
       "23     Time >=1 hour  \n",
       "24     Time >=1 hour  \n",
       "25     Time >=1 hour  \n",
       "26     Time >=1 hour  \n",
       "27     Time >=1 hour  \n",
       "28     Time >=1 hour  \n",
       "29     Time >=1 hour  \n",
       "...              ...  \n",
       "10560    Time<10Mins  \n",
       "10561    Time<10Mins  \n",
       "10562    Time<10Mins  \n",
       "10563    Time<10Mins  \n",
       "10564    Time<10Mins  \n",
       "10565    Time<10Mins  \n",
       "10566    Time<10Mins  \n",
       "10567    Time<10Mins  \n",
       "10568    Time<10Mins  \n",
       "10569    Time<10Mins  \n",
       "10570    Time<10Mins  \n",
       "10571    Time<10Mins  \n",
       "10572    Time<10Mins  \n",
       "10573    Time<10Mins  \n",
       "10574    Time<10Mins  \n",
       "10575    Time<10Mins  \n",
       "10576    Time<10Mins  \n",
       "10577    Time<10Mins  \n",
       "10578    Time<10Mins  \n",
       "10579    Time<10Mins  \n",
       "10580    Time<10Mins  \n",
       "10581    Time<10Mins  \n",
       "10582    Time<10Mins  \n",
       "10583    Time<10Mins  \n",
       "10584    Time<10Mins  \n",
       "10585    Time<10Mins  \n",
       "10586    Time<10Mins  \n",
       "10587    Time<10Mins  \n",
       "10588    Time<10Mins  \n",
       "10589    Time<10Mins  \n",
       "\n",
       "[10590 rows x 3 columns]"
      ]
     },
     "execution_count": 363,
     "metadata": {},
     "output_type": "execute_result"
    }
   ],
   "source": [
    "D"
   ]
  },
  {
   "cell_type": "code",
   "execution_count": 364,
   "metadata": {
    "collapsed": true
   },
   "outputs": [],
   "source": [
    "D.to_csv(\"EngClass.csv\")"
   ]
  },
  {
   "cell_type": "code",
   "execution_count": null,
   "metadata": {
    "collapsed": true
   },
   "outputs": [],
   "source": []
  }
 ],
 "metadata": {
  "kernelspec": {
   "display_name": "Python 2",
   "language": "python",
   "name": "python2"
  },
  "language_info": {
   "codemirror_mode": {
    "name": "ipython",
    "version": 2
   },
   "file_extension": ".py",
   "mimetype": "text/x-python",
   "name": "python",
   "nbconvert_exporter": "python",
   "pygments_lexer": "ipython2",
   "version": "2.7.10"
  }
 },
 "nbformat": 4,
 "nbformat_minor": 0
}
